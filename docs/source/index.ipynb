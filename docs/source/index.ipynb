{
  "cells": [{
      "cell_type": "markdown",
      "metadata": {},
      "source": [
        "## MechWolf: Continuous Flow Process Description, Analysis, and Automation\n",
        "\n",
        "![logo](_static/wordmark.pdf)\n",
        "\n",
        "MechWolf is a Python framework for automating continuous flow processes.\n",
        "It was developed as a collaboration between computer scientists, chemists, and complete novices to be used by anyone wanting to do better, faster, more reproducible flow-based science.\n",
        "Features include:\n",
        "\n",
        "- Natural language description, analysis, and visualization of continuous flow networks\n",
        "- Automated execution of protocols\n",
        "- Full user extensibility\n",
        "- Smart default settings, designed by scientists for scientists\n",
        "- Extensive checking to prevent potentially costly and dangerous errors *before* runtime\n",
        "- Natural language parsing of times and quantities\n",
        "- Thorough documentation and tutorials\n",
        "\n",
        "\n",
        "### What does \"MechWolf\" even mean?\n",
        "\n",
        "Simply, \"MechWolf\" is an anagram of \"flow chem\". This tool can do so much more\n",
        "than just chemistry automation, so we decided not to pigeonhole ourselves by\n",
        "calling the project \"flow chem\".  We like to think MechWolf is a **way** cooler\n",
        "name anyway.\n",
        "\n",
        "### Table of Contents"
      ]
    },
    {
      "cell_type": "markdown",
      "metadata": {
        "nbsphinx-toctree": {
          "maxdepth": 2
        }
      },
      "source": [
        "- [About Mechwolf](about/about.rst)\n",
        "- [User Guide](guide/guide.rst)\n",
        "- [API Reference](api/api.rst)\n",
        "- [CLI Reference](cli/cli.rst)\n",
        "- [Contributing](contributing.md)"
      ]
    },
    {
      "cell_type": "markdown",
      "metadata": {},
      "source": [
        "### Three Minutes to MechWolf\n",
        "\n",
        "\n",
        "Let's say you're trying to automate the production of [acetaminophen](https://en.wikipedia.org/wiki/Paracetamol), a popular pain reliever and fever\n",
        "reducer. The reaction involves combining two chemicals, 4-aminophenol and acetic\n",
        "anhydride. The basic level of organization in MechWolf are individual\n",
        "components, such as the vessels and pumps. Let's go ahead and create them:"
      ]
    },
    {
      "cell_type": "code",
      "execution_count": null,
      "metadata": {},
      "outputs": [],
      "source": [
        "import mechwolf as mw\n",
        "\n",
        "# define the vessels\n",
        "aminophenol = mw.Vessel(description=\"15 mL `4-aminophenol`\", name=\"aminophenol\")\n",
        "acetic_anhydride = mw.Vessel(\"15 mL `acetic anhydride`\", name=\"acetic anhydride\")\n",
        "acetaminophen = mw.Vessel(\"`acetaminophen`\", name=\"acetaminophen\")\n",
        "\n",
        "# define the pumps\n",
        "pump_1 = mw.Pump(name=\"pump_1\")\n",
        "pump_2 = mw.Pump(name=\"pump_2\")\n",
        "\n",
        "# define the mixer\n",
        "mixer = mw.TMixer()"
      ]
    },
    {
      "cell_type": "markdown",
      "metadata": {},
      "source": [
        "That wasn’t too bad! Just as putting vessels and pumps on a lab bench doesn’t actually do anything, we’re going to need to tell MechWolf what the configuration of the components is. The ` symbols are there to surround chemical names that we want resolved; we’ll see how that works shortly.\n",
        "\n",
        "We can do this by creating an [Apparatus](api/mechwolf.rst#mechwolf.Apparatus) object. To add connections between components, we need to tell MechWolf three things: where the connection is from, where it’s going, and how they are actually connected. Tubing type can have a significant effect on reproducibility, so we require that you explicitly specify what tubing you are using when connecting components. This sounds complicated, but it is actually easy in practice:"
      ]
    },
    {
      "cell_type": "code",
      "execution_count": null,
      "metadata": {},
      "outputs": [],
      "source": [
        "# same tube specs for all tubes\n",
        "tube = mw.Tube(length=\"1 m\",\n",
        "               ID=\"1/16 in\",\n",
        "               OD=\"2/16 in\",\n",
        "               material=\"PVC\")\n",
        "\n",
        "# create the Apparatus object\n",
        "A = mw.Apparatus()\n",
        "\n",
        "# add the connections\n",
        "A.add(aminophenol, pump_1, tube) # connect vessel_1 to pump_1\n",
        "A.add(acetic_anhydride, pump_2, tube) # connect vessel_2 to pump_2\n",
        "A.add([pump_1, pump_2], mixer, tube) # connect pump_1 and pump_2 to mixer\n",
        "A.add(mixer, acetaminophen, tube) # connect mixer to vessel_3"
      ]
    },
    {
      "cell_type": "markdown",
      "metadata": {},
      "source": [
        "With the Apparatus object, we can do so much. If we call [summarize()](api/mechwolf.rst#mechwolf.Apparatus.summarize)\n",
        ", we’ll get a clean tabular describe of our apparatus like this with summary values automatically computed:"
      ]
    },
    {
      "cell_type": "code",
      "execution_count": null,
      "metadata": {},
      "outputs": [],
      "source": [
        "A.summarize()"
      ]
    },
    {
      "cell_type": "markdown",
      "metadata": {},
      "source": [
        "But wait, there’s more! [visualize()](api/mechwolf.rst#mechwolf.Apparatus.visualize) will create a diagram of the network:"
      ]
    },
    {
      "cell_type": "code",
      "execution_count": null,
      "metadata": {},
      "outputs": [],
      "source": [
        "A.visualize()"
      ]
    },
    {
      "cell_type": "markdown",
      "metadata": {},
      "source": [
        "It’s fully customizable, so you can decide whether to show the details of the tubing, the name of the apparatus, and more. And that’s not all either. [describe()](api/mechwolf.rst#mechwolf.Apparatus.describe) will generate an SI-ready description of the apparatus:"
      ]
    },
    {
      "cell_type": "code",
      "execution_count": null,
      "metadata": {
        "scrolled": false
      },
      "outputs": [],
      "source": [
        "A.describe()"
      ]
    },
    {
      "cell_type": "markdown",
      "metadata": {},
      "source": [
        "Note that chemical names were automatically resolved to their IUPAC names. That’s because the ` symbols around the chemical name tell MechWolf to use the National Cancer Institute’s resolver.\n",
        "\n",
        "Now that we’ve gone over how to define an apparatus and all the different ways to inspect it, let’s make it synthesize acetaminophen. We do that with a [Protocol](api/mechwolf.rst#mechwolf.Protocol), a list of procedures defined for an Apparatus. For this reaction, it’s as simple as deciding the flow rate and duration for which to run the pumps:"
      ]
    },
    {
      "cell_type": "code",
      "execution_count": null,
      "metadata": {},
      "outputs": [],
      "source": [
        "# create the Protocol object\n",
        "P = mw.Protocol(A, name=\"acetaminophen synthesis\")\n",
        "P.add([pump_1, pump_2], duration=\"15 mins\", rate=\"1 mL/min\")"
      ]
    },
    {
      "cell_type": "markdown",
      "metadata": {},
      "source": [
        "It’s really that simple to create protocols. We can visualize it equally simply with [visualize()](api/mechwolf.rst#mechwolf.Protocol.visualize):"
      ]
    },
    {
      "cell_type": "code",
      "execution_count": null,
      "metadata": {
        "scrolled": false
      },
      "outputs": [],
      "source": [
        "P.visualize()"
      ]
    },
    {
      "cell_type": "markdown",
      "metadata": {},
      "source": [
        "Since we have a good idea of what our protocol is going to do, let’s go ahead and compile it. This will convert the procedure we added to the protocol into a list of instructions that can be passed to the components. We can compile it directly with [compile()](api/mechwolf.rst#mechwolf.Protocol.compile) but let’s get it in YAML format for the sake of readability by calling [yaml()](api/mechwolf.rst#mechwolf.Protocol.yaml):"
      ]
    },
    {
      "cell_type": "code",
      "execution_count": null,
      "metadata": {
        "scrolled": true
      },
      "outputs": [],
      "source": [
        "P.yaml()"
      ]
    },
    {
      "cell_type": "markdown",
      "metadata": {},
      "source": [
        "Just as we expect, the pumps will both turn on to 1 mL/min at time 0 and turn off 900 seconds (15 minutes) later. When we’re ready to actually execute the protocol, we just call [execute()](api/mechwolf.rst#mechwolf.Protocol.execute) and MechWolf will do the rest, ensuring that both pumps have their protocols and start in sync."
      ]
    }
  ],
  "metadata": {
    "kernelspec": {
      "display_name": "Python (mechwolf-env)",
      "language": "python",
      "name": "mechwolf"
    },
    "language_info": {
      "codemirror_mode": {
        "name": "ipython",
        "version": 3
      },
      "file_extension": ".py",
      "mimetype": "text/x-python",
      "name": "python",
      "nbconvert_exporter": "python",
      "pygments_lexer": "ipython3",
      "version": "3.7.3"
    }
  },
  "nbformat": 4,
  "nbformat_minor": 2
}