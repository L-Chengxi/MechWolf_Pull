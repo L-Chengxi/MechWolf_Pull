{
 "cells": [
  {
   "cell_type": "markdown",
   "metadata": {},
   "source": [
    "# Synthesis of GHRH\n",
    "\n",
    "This is the experiment where I want to test this.\n",
    "\n",
    "1. This\n",
    "2. That\n",
    "3. The other\n",
    "\n",
    "## Problems\n",
    "\n",
    "These problems occurred.\n"
   ]
  },
  {
   "cell_type": "code",
   "execution_count": 1,
   "metadata": {},
   "outputs": [],
   "source": [
    "peptide = [\"ala\"]"
   ]
  },
  {
   "cell_type": "code",
   "execution_count": 39,
   "metadata": {
    "scrolled": false
   },
   "outputs": [],
   "source": [
    "import mechwolf as mw\n",
    "from datetime import timedelta\n",
    "\n",
    "# define vessels\n",
    "hatu = mw.Vessel(\"HATU\", name=\"hatu\")\n",
    "dmf = mw.Vessel(\"DMF\", name=\"dmf\")\n",
    "output = mw.Vessel(\"waste\", name=\"output\")\n",
    "diea = mw.Vessel(\"DIEA\", name=\"diea\")\n",
    "pip = mw.Vessel(\"40% Piperidine in DMF\", name=\"pip\")\n",
    "\n",
    "# define pumps\n",
    "activator_pump = mw.VarianPump(name=\"activator_pump\", serial_port = '/dev/serial/by-id/usb-FTDI_USB-RS422_Cable_FT1UI4UT-if00-port0')\n",
    "amino_pump = mw.VarianPump(name=\"amino_pump\", serial_port = '/dev/serial/by-id/usb-FTDI_USB-RS422_Cable_FT1UI4DV-if00-port0')\n",
    "diea_pump = mw.VarianPump(name=\"diea_pump\", serial_port = '/dev/serial/by-id/usb-FTDI_USB-RS422_Cable_FT1UI43N-if00-port0')\n",
    "\n",
    "mixer = mw.TMixer(name='mixer')\n",
    "\n",
    "# define sensors\n",
    "uv = mw.LabJack(name=\"uv\")\n",
    "\n",
    "# define amines\n",
    "fmoc_pna_a = mw.Vessel(\"fmoc_pna_a\", name=\"fmoc_pna_a\")\n",
    "fmoc_pna_t = mw.Vessel(\"fmoc_pna_t\", name=\"fmoc_pna_t\")\n",
    "fmoc_pna_c = mw.Vessel(\"fmoc_pna_c\", name=\"fmoc_pna_c\")\n",
    "fmoc_pna_g = mw.Vessel(\"fmoc_pna_g\", name=\"fmoc_pna_g\")\n",
    "fmoc_lys_oh = mw.Vessel(\"fmoc_lys_oh\", name=\"fmoc_lys_oh\")\n",
    "syringe_6 = mw.Vessel(\"syringe_6\", name=\"syringe_6\")\n",
    "ala = mw.Vessel(\"ala\", name=\"ala\")\n",
    "leu = mw.Vessel(\"leu\", name=\"leu\")\n",
    "phe = mw.Vessel(\"phe\", name=\"phe\")\n",
    "# dummy passive heater\n",
    "# heater = mw.Component(\"heater\")\n",
    "\n",
    "# define valve\n",
    "amino_mapping = dict(fmoc_pna_a=1,\n",
    "                     fmoc_pna_t=2,\n",
    "                     fmoc_pna_c=3,\n",
    "                     fmoc_pna_g=4,\n",
    "                     fmoc_lys_oh=5,\n",
    "                     syringe_6=6,\n",
    "                     ala=7,\n",
    "                     leu=8,\n",
    "                     phe=9,\n",
    "                     dmf=10)\n",
    "\n",
    "amino_valve = mw.ViciValve(name=\"amino_valve\", mapping=amino_mapping, serial_port = '/dev/serial/by-id/usb-FTDI_FT232R_USB_UART_AH06396Q-if00-port0')\n",
    "\n",
    "act_mapping = dict(hatu=1,\n",
    "                   pip=9,\n",
    "                   dmf=10)\n",
    "\n",
    "activator_valve = mw.ViciValve(name=\"activator_valve\", mapping=act_mapping, serial_port = '/dev/serial/by-id/usb-FTDI_FT232R_USB_UART_AH06396Q-if00-port0')\n",
    "\n",
    "\n",
    "def fat_tube(len):\n",
    "    return mw.Tube(length=len, ID=\"1/16 in\", OD=\"1/8 in\", material=\"PFA\")\n",
    "\n",
    "def thin_tube(len):\n",
    "    return mw.Tube(length=len, ID=\"0.030 in\", OD=\"1/16 in\", material=\"PFA\")\n",
    "\n",
    "def thinner_tube(len):\n",
    "    return mw.Tube(length=len, ID=\"0.020 in\", OD=\"1/16 in\", material=\"PFA\")\n",
    "\n",
    "\n",
    "valve_tube = thinner_tube(\"12 cm\")\n",
    "\n",
    "A = mw.Apparatus(\"Peptide Nucleic Acid Synthesizer\")\n",
    "\n",
    "A.add(hatu, activator_valve, fat_tube(\"101 cm\"))\n",
    "A.add([dmf, pip], activator_valve, fat_tube(\"101 cm\"))\n",
    "A.add(activator_valve, activator_pump, valve_tube)\n",
    "A.add(activator_pump, mixer, thinner_tube(\"46 cm\"))\n",
    "A.add(fmoc_pna_a, amino_valve, thin_tube(\"64.9 cm\"))\n",
    "A.add(fmoc_pna_t, amino_valve, thin_tube(\"53 cm\"))\n",
    "A.add(fmoc_pna_c, amino_valve, thin_tube(\"46.2 cm\"))\n",
    "A.add(fmoc_pna_g, amino_valve, thin_tube(\"44 cm\"))\n",
    "A.add(fmoc_lys_oh, amino_valve, thin_tube(\"36.1 cm\"))\n",
    "A.add(syringe_6, amino_valve, thin_tube(\"31 cm\"))\n",
    "A.add(ala, amino_valve, thin_tube(\"25.6 cm\"))\n",
    "A.add(leu, amino_valve, thin_tube(\"25 cm\"))\n",
    "A.add(phe, amino_valve, thin_tube(\"28.8 cm\"))\n",
    "A.add(dmf, amino_valve, fat_tube(\"113 cm\"))\n",
    "A.add(amino_valve, amino_pump, valve_tube)\n",
    "A.add(amino_pump, mixer, thinner_tube(\"46 cm\"))\n",
    "A.add(diea, diea_pump, fat_tube(\"98 cm\"))\n",
    "A.add(diea_pump, mixer, thinner_tube(\"65 cm\"))\n",
    "A.add(mixer, uv, thinner_tube(\"40 cm\"))\n",
    "\n",
    "#A.describe()\n",
    "#A.visualize(graph_attr=dict(splines=\"ortho\", nodesep=\"0.75\"), label_tubes=False)\n",
    "\n",
    "P = mw.Protocol(A, duration=\"auto\")\n",
    "start = timedelta(seconds=0)\n",
    "\n",
    "# how much time to leave the pumps off before and after switching the valve\n",
    "switching_time = timedelta(seconds=1)\n",
    "\n",
    "\n",
    "\n",
    "def pump_time(number_strokes, flow_rate=5):\n",
    "    # Computes the length of time to run the Varian Prostar pump with a 5 mL/min pump head at the desired flow rate\n",
    "    # to get the desired number of pump delivery cycles (pump strokes). The volume of each\n",
    "    # pump stroke is 0.039239 mL.\n",
    "    # Returns time in minutes.\n",
    "    time_seconds = 60 * ((number_strokes * 0.039239) / flow_rate)\n",
    "    return time_seconds\n",
    "\n",
    "\n",
    "def add_rinse(time_seconds):\n",
    "    global start\n",
    "    rinse_duration = timedelta(seconds=time_seconds) + 2 * switching_time\n",
    "    P.add([amino_valve, activator_valve], start=start, duration=rinse_duration, setting=\"dmf\")\n",
    "    P.add([amino_pump, activator_pump], start=start + switching_time, duration=rinse_duration - 2 * switching_time, rate=\"5 mL/min\")\n",
    "    start += rinse_duration\n",
    "\n",
    "\n",
    "def add_diea_rinse(time_seconds):\n",
    "    # Washes with all three pumps while coupling agent and amino acid flushes out\n",
    "    global start\n",
    "    rinse_duration = timedelta(seconds=time_seconds) + 2 * switching_time\n",
    "    P.add([amino_valve, activator_valve], start=start, duration=rinse_duration, setting=\"dmf\")\n",
    "    P.add([amino_pump, activator_pump, diea_pump], start=start + switching_time, duration=rinse_duration - 2 * switching_time, rate=\"5 mL/min\")\n",
    "\n",
    "    start += rinse_duration\n",
    "\n",
    "#######\n",
    "P.add(uv, start = start, rate = \"5 Hz\")\n",
    "\n",
    "add_rinse(10)\n",
    "for amino in reversed(peptide):\n",
    "\n",
    "    # Turn on amino acid, coupling agent, and diea. does not implement about a priming period\n",
    "    coupling_duration = timedelta(seconds=(pump_time(number_strokes=10))) + 2 * switching_time\n",
    "\n",
    "    P.add(amino_valve, start=start, duration=coupling_duration, setting=amino)\n",
    "    P.add(activator_valve, start=start, duration=coupling_duration, setting=\"hatu\")\n",
    "    P.add([amino_pump, activator_pump, diea_pump], start=start + switching_time, duration=coupling_duration - 2 * switching_time, rate=\"5 mL/min\")\n",
    "\n",
    "    start += coupling_duration\n",
    "\n",
    "    add_diea_rinse(pump_time(number_strokes=5))\n",
    "    add_rinse(30)\n",
    "\n",
    "    # Fmoc removal\n",
    "    pip_addition_duration = timedelta(seconds=10) + 2 * switching_time\n",
    "\n",
    "    P.add([amino_pump, activator_pump], start=start + switching_time, duration=pip_addition_duration - 2 * switching_time, rate=\"5 mL/min\")\n",
    "    P.add(amino_valve, start=start, duration=pip_addition_duration, setting=\"dmf\")\n",
    "    P.add(activator_valve, start=start, duration=pip_addition_duration, setting=\"pip\")\n",
    "\n",
    "    start += pip_addition_duration\n",
    "\n",
    "    add_rinse(30)\n",
    "\n",
    "add_rinse(10)\n",
    "add_rinse(10)\n"
   ]
  },
  {
   "cell_type": "code",
   "execution_count": 40,
   "metadata": {},
   "outputs": [],
   "source": [
    "#A.summarize()"
   ]
  },
  {
   "cell_type": "code",
   "execution_count": 41,
   "metadata": {},
   "outputs": [],
   "source": [
    "#Visualize the apparat\n",
    "#A.visualize()"
   ]
  },
  {
   "cell_type": "code",
   "execution_count": 42,
   "metadata": {},
   "outputs": [
    {
     "ename": "UndefinedError",
     "evalue": "'None' has no attribute 'to_base_units'",
     "output_type": "error",
     "traceback": [
      "\u001b[0;31m---------------------------------------------------------------------------\u001b[0m",
      "\u001b[0;31mUndefinedError\u001b[0m                            Traceback (most recent call last)",
      "\u001b[0;32m<ipython-input-42-90311928b4fd>\u001b[0m in \u001b[0;36m<module>\u001b[0;34m\u001b[0m\n\u001b[0;32m----> 1\u001b[0;31m \u001b[0mP\u001b[0m\u001b[0;34m.\u001b[0m\u001b[0mvisualize\u001b[0m\u001b[0;34m(\u001b[0m\u001b[0;34m)\u001b[0m\u001b[0;34m\u001b[0m\u001b[0m\n\u001b[0m",
      "\u001b[0;32m~/mechwolf/mechwolf/mechwolf.py\u001b[0m in \u001b[0;36mvisualize\u001b[0;34m(self, browser)\u001b[0m\n\u001b[1;32m    572\u001b[0m                               loader=PackageLoader(\"mechwolf\", \"templates\"))\n\u001b[1;32m    573\u001b[0m             \u001b[0mtemplate\u001b[0m \u001b[0;34m=\u001b[0m \u001b[0menv\u001b[0m\u001b[0;34m.\u001b[0m\u001b[0mget_template\u001b[0m\u001b[0;34m(\u001b[0m\u001b[0;34m'visualizer.html'\u001b[0m\u001b[0;34m)\u001b[0m\u001b[0;34m\u001b[0m\u001b[0m\n\u001b[0;32m--> 574\u001b[0;31m             \u001b[0mvisualization\u001b[0m \u001b[0;34m=\u001b[0m \u001b[0mtemplate\u001b[0m\u001b[0;34m.\u001b[0m\u001b[0mrender\u001b[0m\u001b[0;34m(\u001b[0m\u001b[0mtitle\u001b[0m\u001b[0;34m=\u001b[0m\u001b[0mself\u001b[0m\u001b[0;34m.\u001b[0m\u001b[0mname\u001b[0m\u001b[0;34m,\u001b[0m \u001b[0mprocedures\u001b[0m\u001b[0;34m=\u001b[0m\u001b[0mself\u001b[0m\u001b[0;34m.\u001b[0m\u001b[0mprocedures\u001b[0m\u001b[0;34m)\u001b[0m\u001b[0;34m\u001b[0m\u001b[0m\n\u001b[0m\u001b[1;32m    575\u001b[0m \u001b[0;34m\u001b[0m\u001b[0m\n\u001b[1;32m    576\u001b[0m             \u001b[0;31m# write to the temp file\u001b[0m\u001b[0;34m\u001b[0m\u001b[0;34m\u001b[0m\u001b[0m\n",
      "\u001b[0;32m~/.local/lib/python3.6/site-packages/jinja2/asyncsupport.py\u001b[0m in \u001b[0;36mrender\u001b[0;34m(self, *args, **kwargs)\u001b[0m\n\u001b[1;32m     74\u001b[0m     \u001b[0;32mdef\u001b[0m \u001b[0mrender\u001b[0m\u001b[0;34m(\u001b[0m\u001b[0mself\u001b[0m\u001b[0;34m,\u001b[0m \u001b[0;34m*\u001b[0m\u001b[0margs\u001b[0m\u001b[0;34m,\u001b[0m \u001b[0;34m**\u001b[0m\u001b[0mkwargs\u001b[0m\u001b[0;34m)\u001b[0m\u001b[0;34m:\u001b[0m\u001b[0;34m\u001b[0m\u001b[0m\n\u001b[1;32m     75\u001b[0m         \u001b[0;32mif\u001b[0m \u001b[0;32mnot\u001b[0m \u001b[0mself\u001b[0m\u001b[0;34m.\u001b[0m\u001b[0menvironment\u001b[0m\u001b[0;34m.\u001b[0m\u001b[0mis_async\u001b[0m\u001b[0;34m:\u001b[0m\u001b[0;34m\u001b[0m\u001b[0m\n\u001b[0;32m---> 76\u001b[0;31m             \u001b[0;32mreturn\u001b[0m \u001b[0moriginal_render\u001b[0m\u001b[0;34m(\u001b[0m\u001b[0mself\u001b[0m\u001b[0;34m,\u001b[0m \u001b[0;34m*\u001b[0m\u001b[0margs\u001b[0m\u001b[0;34m,\u001b[0m \u001b[0;34m**\u001b[0m\u001b[0mkwargs\u001b[0m\u001b[0;34m)\u001b[0m\u001b[0;34m\u001b[0m\u001b[0m\n\u001b[0m\u001b[1;32m     77\u001b[0m         \u001b[0mloop\u001b[0m \u001b[0;34m=\u001b[0m \u001b[0masyncio\u001b[0m\u001b[0;34m.\u001b[0m\u001b[0mget_event_loop\u001b[0m\u001b[0;34m(\u001b[0m\u001b[0;34m)\u001b[0m\u001b[0;34m\u001b[0m\u001b[0m\n\u001b[1;32m     78\u001b[0m         \u001b[0;32mreturn\u001b[0m \u001b[0mloop\u001b[0m\u001b[0;34m.\u001b[0m\u001b[0mrun_until_complete\u001b[0m\u001b[0;34m(\u001b[0m\u001b[0mself\u001b[0m\u001b[0;34m.\u001b[0m\u001b[0mrender_async\u001b[0m\u001b[0;34m(\u001b[0m\u001b[0;34m*\u001b[0m\u001b[0margs\u001b[0m\u001b[0;34m,\u001b[0m \u001b[0;34m**\u001b[0m\u001b[0mkwargs\u001b[0m\u001b[0;34m)\u001b[0m\u001b[0;34m)\u001b[0m\u001b[0;34m\u001b[0m\u001b[0m\n",
      "\u001b[0;32m~/.local/lib/python3.6/site-packages/jinja2/environment.py\u001b[0m in \u001b[0;36mrender\u001b[0;34m(self, *args, **kwargs)\u001b[0m\n\u001b[1;32m   1006\u001b[0m         \u001b[0;32mexcept\u001b[0m \u001b[0mException\u001b[0m\u001b[0;34m:\u001b[0m\u001b[0;34m\u001b[0m\u001b[0m\n\u001b[1;32m   1007\u001b[0m             \u001b[0mexc_info\u001b[0m \u001b[0;34m=\u001b[0m \u001b[0msys\u001b[0m\u001b[0;34m.\u001b[0m\u001b[0mexc_info\u001b[0m\u001b[0;34m(\u001b[0m\u001b[0;34m)\u001b[0m\u001b[0;34m\u001b[0m\u001b[0m\n\u001b[0;32m-> 1008\u001b[0;31m         \u001b[0;32mreturn\u001b[0m \u001b[0mself\u001b[0m\u001b[0;34m.\u001b[0m\u001b[0menvironment\u001b[0m\u001b[0;34m.\u001b[0m\u001b[0mhandle_exception\u001b[0m\u001b[0;34m(\u001b[0m\u001b[0mexc_info\u001b[0m\u001b[0;34m,\u001b[0m \u001b[0;32mTrue\u001b[0m\u001b[0;34m)\u001b[0m\u001b[0;34m\u001b[0m\u001b[0m\n\u001b[0m\u001b[1;32m   1009\u001b[0m \u001b[0;34m\u001b[0m\u001b[0m\n\u001b[1;32m   1010\u001b[0m     \u001b[0;32mdef\u001b[0m \u001b[0mrender_async\u001b[0m\u001b[0;34m(\u001b[0m\u001b[0mself\u001b[0m\u001b[0;34m,\u001b[0m \u001b[0;34m*\u001b[0m\u001b[0margs\u001b[0m\u001b[0;34m,\u001b[0m \u001b[0;34m**\u001b[0m\u001b[0mkwargs\u001b[0m\u001b[0;34m)\u001b[0m\u001b[0;34m:\u001b[0m\u001b[0;34m\u001b[0m\u001b[0m\n",
      "\u001b[0;32m~/.local/lib/python3.6/site-packages/jinja2/environment.py\u001b[0m in \u001b[0;36mhandle_exception\u001b[0;34m(self, exc_info, rendered, source_hint)\u001b[0m\n\u001b[1;32m    778\u001b[0m             \u001b[0mself\u001b[0m\u001b[0;34m.\u001b[0m\u001b[0mexception_handler\u001b[0m\u001b[0;34m(\u001b[0m\u001b[0mtraceback\u001b[0m\u001b[0;34m)\u001b[0m\u001b[0;34m\u001b[0m\u001b[0m\n\u001b[1;32m    779\u001b[0m         \u001b[0mexc_type\u001b[0m\u001b[0;34m,\u001b[0m \u001b[0mexc_value\u001b[0m\u001b[0;34m,\u001b[0m \u001b[0mtb\u001b[0m \u001b[0;34m=\u001b[0m \u001b[0mtraceback\u001b[0m\u001b[0;34m.\u001b[0m\u001b[0mstandard_exc_info\u001b[0m\u001b[0;34m\u001b[0m\u001b[0m\n\u001b[0;32m--> 780\u001b[0;31m         \u001b[0mreraise\u001b[0m\u001b[0;34m(\u001b[0m\u001b[0mexc_type\u001b[0m\u001b[0;34m,\u001b[0m \u001b[0mexc_value\u001b[0m\u001b[0;34m,\u001b[0m \u001b[0mtb\u001b[0m\u001b[0;34m)\u001b[0m\u001b[0;34m\u001b[0m\u001b[0m\n\u001b[0m\u001b[1;32m    781\u001b[0m \u001b[0;34m\u001b[0m\u001b[0m\n\u001b[1;32m    782\u001b[0m     \u001b[0;32mdef\u001b[0m \u001b[0mjoin_path\u001b[0m\u001b[0;34m(\u001b[0m\u001b[0mself\u001b[0m\u001b[0;34m,\u001b[0m \u001b[0mtemplate\u001b[0m\u001b[0;34m,\u001b[0m \u001b[0mparent\u001b[0m\u001b[0;34m)\u001b[0m\u001b[0;34m:\u001b[0m\u001b[0;34m\u001b[0m\u001b[0m\n",
      "\u001b[0;32m~/.local/lib/python3.6/site-packages/jinja2/_compat.py\u001b[0m in \u001b[0;36mreraise\u001b[0;34m(tp, value, tb)\u001b[0m\n\u001b[1;32m     35\u001b[0m     \u001b[0;32mdef\u001b[0m \u001b[0mreraise\u001b[0m\u001b[0;34m(\u001b[0m\u001b[0mtp\u001b[0m\u001b[0;34m,\u001b[0m \u001b[0mvalue\u001b[0m\u001b[0;34m,\u001b[0m \u001b[0mtb\u001b[0m\u001b[0;34m=\u001b[0m\u001b[0;32mNone\u001b[0m\u001b[0;34m)\u001b[0m\u001b[0;34m:\u001b[0m\u001b[0;34m\u001b[0m\u001b[0m\n\u001b[1;32m     36\u001b[0m         \u001b[0;32mif\u001b[0m \u001b[0mvalue\u001b[0m\u001b[0;34m.\u001b[0m\u001b[0m__traceback__\u001b[0m \u001b[0;32mis\u001b[0m \u001b[0;32mnot\u001b[0m \u001b[0mtb\u001b[0m\u001b[0;34m:\u001b[0m\u001b[0;34m\u001b[0m\u001b[0m\n\u001b[0;32m---> 37\u001b[0;31m             \u001b[0;32mraise\u001b[0m \u001b[0mvalue\u001b[0m\u001b[0;34m.\u001b[0m\u001b[0mwith_traceback\u001b[0m\u001b[0;34m(\u001b[0m\u001b[0mtb\u001b[0m\u001b[0;34m)\u001b[0m\u001b[0;34m\u001b[0m\u001b[0m\n\u001b[0m\u001b[1;32m     38\u001b[0m         \u001b[0;32mraise\u001b[0m \u001b[0mvalue\u001b[0m\u001b[0;34m\u001b[0m\u001b[0m\n\u001b[1;32m     39\u001b[0m \u001b[0;34m\u001b[0m\u001b[0m\n",
      "\u001b[0;32m~/mechwolf/mechwolf/templates/visualizer.html\u001b[0m in \u001b[0;36mtop-level template code\u001b[0;34m()\u001b[0m\n\u001b[1;32m     32\u001b[0m \t\t\t\tdataTable.addRows([\n\u001b[1;32m     33\u001b[0m                                         \u001b[0;34m{\u001b[0m\u001b[0;34m%\u001b[0m \u001b[0;32mfor\u001b[0m \u001b[0mprocedure\u001b[0m \u001b[0;32min\u001b[0m \u001b[0mprocedures\u001b[0m\u001b[0;34m%\u001b[0m\u001b[0;34m}\u001b[0m\u001b[0;34m\u001b[0m\u001b[0m\n\u001b[0;32m---> 34\u001b[0;31m                                         \u001b[0;34m[\u001b[0m \u001b[0;34m\"{{procedure['component'].name}}\"\u001b[0m\u001b[0;34m,\u001b[0m \u001b[0;34m\"{{procedure['params'] | safe}}\"\u001b[0m\u001b[0;34m,\u001b[0m \u001b[0mnew\u001b[0m \u001b[0mDate\u001b[0m\u001b[0;34m(\u001b[0m\u001b[0;36m0\u001b[0m\u001b[0;34m,\u001b[0m \u001b[0;36m0\u001b[0m\u001b[0;34m,\u001b[0m \u001b[0;36m0\u001b[0m\u001b[0;34m,\u001b[0m \u001b[0;36m0\u001b[0m\u001b[0;34m,\u001b[0m \u001b[0;36m0\u001b[0m\u001b[0;34m,\u001b[0m \u001b[0;34m{\u001b[0m\u001b[0;34m{\u001b[0m\u001b[0mprocedure\u001b[0m\u001b[0;34m[\u001b[0m\u001b[0;34m\"start\"\u001b[0m\u001b[0;34m]\u001b[0m\u001b[0;34m.\u001b[0m\u001b[0mto_base_units\u001b[0m\u001b[0;34m(\u001b[0m\u001b[0;34m)\u001b[0m\u001b[0;34m.\u001b[0m\u001b[0mmagnitude\u001b[0m\u001b[0;34m}\u001b[0m\u001b[0;34m}\u001b[0m\u001b[0;34m)\u001b[0m\u001b[0;34m,\u001b[0m \u001b[0mnew\u001b[0m \u001b[0mDate\u001b[0m\u001b[0;34m(\u001b[0m\u001b[0;36m0\u001b[0m\u001b[0;34m,\u001b[0m \u001b[0;36m0\u001b[0m\u001b[0;34m,\u001b[0m \u001b[0;36m0\u001b[0m\u001b[0;34m,\u001b[0m \u001b[0;36m0\u001b[0m\u001b[0;34m,\u001b[0m \u001b[0;36m0\u001b[0m\u001b[0;34m,\u001b[0m \u001b[0;34m{\u001b[0m\u001b[0;34m{\u001b[0m\u001b[0mprocedure\u001b[0m\u001b[0;34m[\u001b[0m\u001b[0;34m\"stop\"\u001b[0m\u001b[0;34m]\u001b[0m\u001b[0;34m.\u001b[0m\u001b[0mto_base_units\u001b[0m\u001b[0;34m(\u001b[0m\u001b[0;34m)\u001b[0m\u001b[0;34m.\u001b[0m\u001b[0mmagnitude\u001b[0m\u001b[0;34m}\u001b[0m\u001b[0;34m}\u001b[0m\u001b[0;34m)\u001b[0m \u001b[0;34m]\u001b[0m\u001b[0;34m,\u001b[0m\u001b[0;34m\u001b[0m\u001b[0m\n\u001b[0m\u001b[1;32m     35\u001b[0m                                         \u001b[0;34m{\u001b[0m\u001b[0;34m%\u001b[0m \u001b[0mendfor\u001b[0m \u001b[0;34m%\u001b[0m\u001b[0;34m}\u001b[0m\u001b[0;34m\u001b[0m\u001b[0m\n\u001b[1;32m     36\u001b[0m \t\t\t\t\t]);\n",
      "\u001b[0;31mUndefinedError\u001b[0m: 'None' has no attribute 'to_base_units'"
     ]
    }
   ],
   "source": [
    "P.visualize()"
   ]
  },
  {
   "cell_type": "code",
   "execution_count": null,
   "metadata": {},
   "outputs": [],
   "source": [
    "#Returns immediately with an Experiment object that will update as it gets new data\n",
    "Exp = jupyter_execute(P)"
   ]
  },
  {
   "cell_type": "code",
   "execution_count": null,
   "metadata": {
    "scrolled": true
   },
   "outputs": [],
   "source": [
    "#Visualize the experiment with live updating\n",
    "Exp.visualize()"
   ]
  },
  {
   "cell_type": "code",
   "execution_count": null,
   "metadata": {
    "scrolled": true
   },
   "outputs": [],
   "source": [
    "#Inspect the protocol steps that ran successfully.\n",
    "Exp.protocol.json()"
   ]
  },
  {
   "cell_type": "code",
   "execution_count": null,
   "metadata": {},
   "outputs": [],
   "source": []
  }
 ],
 "metadata": {
  "kernelspec": {
   "display_name": "Python 3",
   "language": "python",
   "name": "python3"
  },
  "language_info": {
   "codemirror_mode": {
    "name": "ipython",
    "version": 3
   },
   "file_extension": ".py",
   "mimetype": "text/x-python",
   "name": "python",
   "nbconvert_exporter": "python",
   "pygments_lexer": "ipython3",
   "version": "3.6.6"
  }
 },
 "nbformat": 4,
 "nbformat_minor": 2
}
