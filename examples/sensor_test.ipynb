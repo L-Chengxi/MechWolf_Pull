{
 "cells": [
  {
   "cell_type": "code",
   "execution_count": null,
   "metadata": {},
   "outputs": [],
   "source": [
    "import mechwolf as mw\n",
    "\n",
    "# create components\n",
    "a = mw.Vessel(name=\"a\", description=\"nothing\")\n",
    "b = mw.Vessel(name=\"b\", description=\"nothing\")\n",
    "c = mw.Vessel(name=\"c\", description=\"nothing\")\n",
    "\n",
    "pump = mw.DummyPump(name=\"Dummy pump\")\n",
    "\n",
    "\n",
    "test = mw.DummySensor(name=\"test\")\n",
    "test2 = mw.DummySensor(name=\"test2\")\n",
    "test3 = mw.DummySensor(name=\"test3\")\n",
    "test4 = mw.DummySensor(name=\"test4\")\n",
    "\n",
    "tube = mw.Tube(\"1 foot\", \"1/16 in\", \"2/16 in\", \"PVC\")\n",
    "\n",
    "# create apparatus\n",
    "A = mw.Apparatus()\n",
    "A.add([a, b, c], pump, tube)\n",
    "A.add(pump, test, tube)\n",
    "A.add(pump, test2, tube)\n",
    "A.add(pump, test3, tube)\n",
    "A.add(pump, test4, tube)\n",
    "\n",
    "P = mw.Protocol(A, duration=\"auto\")\n",
    "P.add(pump, rate=\"5 mL/min\", start=\"0 seconds\", stop=\"15 secs\")\n",
    "P.add(pump, rate=\"10 mL/min\",start=\"15 seconds\", stop=\"30 secs\")\n",
    "P.add(test, rate=\"5 Hz\", start=\"4 secs\", stop=\"30 secs\")\n",
    "P.add(test2, rate=\"5 Hz\", start=\"4.1 secs\", stop=\"30 secs\")\n",
    "P.add(test3, rate=\"5 Hz\", start=\"4.1 secs\", stop=\"30 secs\")\n",
    "P.add(test4, rate=\"5 Hz\", start=\"4.1 secs\", stop=\"30 secs\")"
   ]
  },
  {
   "cell_type": "code",
   "execution_count": null,
   "metadata": {},
   "outputs": [],
   "source": [
    "A.visualize()"
   ]
  },
  {
   "cell_type": "code",
   "execution_count": null,
   "metadata": {},
   "outputs": [],
   "source": [
    "P.yaml()"
   ]
  },
  {
   "cell_type": "code",
   "execution_count": null,
   "metadata": {},
   "outputs": [],
   "source": [
    "#Returns immediately with an Experiment object that will update as it gets new data\n",
    "E = P.execute(dry_run=True)"
   ]
  },
  {
   "cell_type": "code",
   "execution_count": null,
   "metadata": {
    "scrolled": false
   },
   "outputs": [],
   "source": [
    "#Visualize the experiment with live updating\n",
    "E.visualize()"
   ]
  },
  {
   "cell_type": "code",
   "execution_count": null,
   "metadata": {
    "scrolled": false
   },
   "outputs": [],
   "source": [
    "#Inspect the protocol steps that ran successfully.\n",
    "E.executed_procedures"
   ]
  },
  {
   "cell_type": "code",
   "execution_count": null,
   "metadata": {},
   "outputs": [],
   "source": []
  },
  {
   "cell_type": "code",
   "execution_count": null,
   "metadata": {},
   "outputs": [],
   "source": []
  },
  {
   "cell_type": "code",
   "execution_count": null,
   "metadata": {},
   "outputs": [],
   "source": []
  }
 ],
 "metadata": {
  "kernelspec": {
   "display_name": "Python (mechwolf-env)",
   "language": "python",
   "name": "mechwolf"
  },
  "language_info": {
   "codemirror_mode": {
    "name": "ipython",
    "version": 3
   },
   "file_extension": ".py",
   "mimetype": "text/x-python",
   "name": "python",
   "nbconvert_exporter": "python",
   "pygments_lexer": "ipython3",
   "version": "3.7.3"
  },
  "widgets": {
   "application/vnd.jupyter.widget-state+json": {
    "state": {},
    "version_major": 2,
    "version_minor": 0
   }
  }
 },
 "nbformat": 4,
 "nbformat_minor": 2
}
