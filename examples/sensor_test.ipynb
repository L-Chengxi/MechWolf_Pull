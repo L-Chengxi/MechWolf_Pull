{
 "cells": [
  {
   "cell_type": "code",
   "execution_count": 7,
   "metadata": {},
   "outputs": [],
   "source": [
    "import mechwolf as mw\n",
    "\n",
    "# create components\n",
    "a = mw.Vessel(name=\"a\", description=\"nothing\")\n",
    "b = mw.Vessel(name=\"b\", description=\"nothing\")\n",
    "c = mw.Vessel(name=\"c\", description=\"nothing\")\n",
    "\n",
    "pump = mw.DummyPump(name=\"Dummy pump\")\n",
    "\n",
    "\n",
    "test = mw.DummySensor(name=\"test\")\n",
    "test2 = mw.DummySensor(name=\"test2\")\n",
    "test3 = mw.DummySensor(name=\"test3\")\n",
    "test4 = mw.DummySensor(name=\"test4\")\n",
    "\n",
    "tube = mw.Tube(\"1 foot\", \"1/16 in\", \"2/16 in\", \"PVC\")\n",
    "\n",
    "# create apparatus\n",
    "A = mw.Apparatus()\n",
    "A.add([a, b, c], pump, tube)\n",
    "A.add(pump, [test, test2, test3, test4], tube)\n",
    "\n",
    "P = mw.Protocol(A)\n",
    "P.add(pump, rate=\"5 mL/min\", start=\"0 seconds\", stop=\"15 secs\")\n",
    "P.add(pump, rate=\"10 mL/min\",start=\"15 seconds\", stop=\"30 secs\")\n",
    "P.add([test, test2, test3, test4], rate=\"5 Hz\", start=\"4 secs\", stop=\"30 secs\")"
   ]
  },
  {
   "cell_type": "code",
   "execution_count": 8,
   "metadata": {},
   "outputs": [
    {
     "data": {
      "application/vnd.jupyter.widget-view+json": {
       "model_id": "a51396a12a07432a9c261b65b8072031",
       "version_major": 2,
       "version_minor": 0
      },
      "text/plain": [
       "VBox(children=(HTML(value='<h3>Experiment 2019_07_14_22_12_35_127a7f65</h3>'), Tab(children=(HTML(value='<ul><…"
      ]
     },
     "metadata": {},
     "output_type": "display_data"
    }
   ],
   "source": [
    "#Returns immediately with an Experiment object that will update as it gets new data\n",
    "E = P.execute(confirm=True)"
   ]
  },
  {
   "cell_type": "code",
   "execution_count": null,
   "metadata": {},
   "outputs": [],
   "source": []
  }
 ],
 "metadata": {
  "kernelspec": {
   "display_name": "Python (mechwolf-env)",
   "language": "python",
   "name": "mechwolf"
  },
  "language_info": {
   "codemirror_mode": {
    "name": "ipython",
    "version": 3
   },
   "file_extension": ".py",
   "mimetype": "text/x-python",
   "name": "python",
   "nbconvert_exporter": "python",
   "pygments_lexer": "ipython3",
   "version": "3.7.3"
  },
  "widgets": {
   "application/vnd.jupyter.widget-state+json": {
    "state": {},
    "version_major": 2,
    "version_minor": 0
   }
  }
 },
 "nbformat": 4,
 "nbformat_minor": 2
}
