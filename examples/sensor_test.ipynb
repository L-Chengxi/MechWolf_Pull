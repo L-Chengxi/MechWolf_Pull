{
 "cells": [
  {
   "cell_type": "code",
   "execution_count": 1,
   "metadata": {},
   "outputs": [
    {
     "name": "stdout",
     "output_type": "stream",
     "text": [
      "test:\n",
      "- params: {rate: 5 Hz}\n",
      "  time: 5.0\n",
      "- params: {rate: 0 Hz}\n",
      "  time: 10.0\n",
      "- params: {rate: 5 Hz}\n",
      "  time: 15.0\n",
      "- params: {rate: 0 Hz}\n",
      "  time: 20.0\n",
      "\n"
     ]
    }
   ],
   "source": [
    "import mechwolf as mw\n",
    "\n",
    "\n",
    "# create components\n",
    "a = mw.Component(name=\"a\")\n",
    "b = mw.Component(name=\"b\")\n",
    "c = mw.Component(name=\"c\")\n",
    "test = mw.DummySensor(name=\"test\")\n",
    "\n",
    "# create apparatus\n",
    "A = mw.Apparatus()\n",
    "A.add([a, b, c], test, mw.Tube(\"1 foot\", \"1/16 in\", \"2/16 in\", \"PVC\"))\n",
    "\n",
    "P = mw.Protocol(A, duration=\"auto\")\n",
    "P.add(test, rate=\"5 Hz\", start=\"5 secs\", stop=\"10 secs\")\n",
    "P.add(test, rate=\"5 Hz\", start=\"15 secs\", stop=\"20 secs\")\n",
    "print(P.yaml())"
   ]
  },
  {
   "cell_type": "code",
   "execution_count": 6,
   "metadata": {},
   "outputs": [
    {
     "name": "stdout",
     "output_type": "stream",
     "text": [
      "Experiment 2018_12_11_7a0cd714-fda5-11e8-90af-7cd1c3dd68bf in progress\n",
      "20\n"
     ]
    }
   ],
   "source": [
    "#Returns immediately with an Experiment object that will update with new data\n",
    "E = mw.jupyter_execute(P)"
   ]
  },
  {
   "cell_type": "code",
   "execution_count": 15,
   "metadata": {},
   "outputs": [
    {
     "data": {
      "text/plain": [
       "{'test': [Datapoint(datapoint=13, timestamp=1544574779.413336),\n",
       "  Datapoint(datapoint=15, timestamp=1544574779.619134),\n",
       "  Datapoint(datapoint=17, timestamp=1544574779.820061),\n",
       "  Datapoint(datapoint=19, timestamp=1544574780.022662),\n",
       "  Datapoint(datapoint=21, timestamp=1544574780.22845),\n",
       "  Datapoint(datapoint=23, timestamp=1544574780.432202),\n",
       "  Datapoint(datapoint=25, timestamp=1544574780.637953),\n",
       "  Datapoint(datapoint=27, timestamp=1544574780.840514),\n",
       "  Datapoint(datapoint=29, timestamp=1544574781.046319),\n",
       "  Datapoint(datapoint=31, timestamp=1544574781.250009),\n",
       "  Datapoint(datapoint=33, timestamp=1544574781.453057),\n",
       "  Datapoint(datapoint=35, timestamp=1544574781.6537),\n",
       "  Datapoint(datapoint=37, timestamp=1544574781.854879),\n",
       "  Datapoint(datapoint=39, timestamp=1544574784.42336),\n",
       "  Datapoint(datapoint=41, timestamp=1544574784.627985),\n",
       "  Datapoint(datapoint=43, timestamp=1544574784.8325272),\n",
       "  Datapoint(datapoint=45, timestamp=1544574785.036149),\n",
       "  Datapoint(datapoint=47, timestamp=1544574785.236964),\n",
       "  Datapoint(datapoint=49, timestamp=1544574785.4380422),\n",
       "  Datapoint(datapoint=51, timestamp=1544574785.639094),\n",
       "  Datapoint(datapoint=53, timestamp=1544574785.841873),\n",
       "  Datapoint(datapoint=55, timestamp=1544574786.042326),\n",
       "  Datapoint(datapoint=57, timestamp=1544574786.242929),\n",
       "  Datapoint(datapoint=59, timestamp=1544574786.4441862),\n",
       "  Datapoint(datapoint=61, timestamp=1544574786.648305),\n",
       "  Datapoint(datapoint=63, timestamp=1544574786.85417),\n",
       "  Datapoint(datapoint=65, timestamp=1544574787.055159),\n",
       "  Datapoint(datapoint=67, timestamp=1544574787.25903),\n",
       "  Datapoint(datapoint=69, timestamp=1544574787.4608672),\n",
       "  Datapoint(datapoint=71, timestamp=1544574787.666703),\n",
       "  Datapoint(datapoint=73, timestamp=1544574787.8697941),\n",
       "  Datapoint(datapoint=75, timestamp=1544574788.074928),\n",
       "  Datapoint(datapoint=77, timestamp=1544574788.280046),\n",
       "  Datapoint(datapoint=79, timestamp=1544574788.483943),\n",
       "  Datapoint(datapoint=81, timestamp=1544574788.688643),\n",
       "  Datapoint(datapoint=83, timestamp=1544574788.8945122),\n",
       "  Datapoint(datapoint=85, timestamp=1544574789.0962439),\n",
       "  Datapoint(datapoint=87, timestamp=1544574789.299482)]}"
      ]
     },
     "execution_count": 15,
     "metadata": {},
     "output_type": "execute_result"
    }
   ],
   "source": [
    "#Re-compute this field as the protocol is executing to see the data streaming in\n",
    "E.data"
   ]
  },
  {
   "cell_type": "code",
   "execution_count": 14,
   "metadata": {},
   "outputs": [
    {
     "data": {
      "text/plain": [
       "[{'timestamp': 1544574784.4228978,\n",
       "  'params': {'rate': '5.0 / second'},\n",
       "  'device': 'test',\n",
       "  'type': 'executed_procedure'},\n",
       " {'timestamp': 1544574789.430315,\n",
       "  'params': {'rate': '0.0 / second'},\n",
       "  'device': 'test',\n",
       "  'type': 'executed_procedure'},\n",
       " {'timestamp': 1544574794.426184,\n",
       "  'params': {'rate': '5.0 / second'},\n",
       "  'device': 'test',\n",
       "  'type': 'executed_procedure'},\n",
       " {'timestamp': 1544574799.424066,\n",
       "  'params': {'rate': '0.0 / second'},\n",
       "  'device': 'test',\n",
       "  'type': 'executed_procedure'}]"
      ]
     },
     "execution_count": 14,
     "metadata": {},
     "output_type": "execute_result"
    }
   ],
   "source": [
    "#Recompute this field as the protocol executes to see which procedures have completed.\n",
    "E.executed_procedures"
   ]
  },
  {
   "cell_type": "code",
   "execution_count": null,
   "metadata": {},
   "outputs": [],
   "source": []
  }
 ],
 "metadata": {
  "kernelspec": {
   "display_name": "Python 3",
   "language": "python",
   "name": "python3"
  },
  "language_info": {
   "codemirror_mode": {
    "name": "ipython",
    "version": 3
   },
   "file_extension": ".py",
   "mimetype": "text/x-python",
   "name": "python",
   "nbconvert_exporter": "python",
   "pygments_lexer": "ipython3",
   "version": "3.7.1"
  }
 },
 "nbformat": 4,
 "nbformat_minor": 2
}
