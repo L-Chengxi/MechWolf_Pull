{
 "cells": [
  {
   "cell_type": "code",
   "execution_count": 1,
   "metadata": {},
   "outputs": [],
   "source": [
    "import mechwolf as mw\n",
    "from mechwolf import jupyter_execute\n",
    "\n",
    "\n",
    "# create components\n",
    "a = mw.Component(name=\"a\")\n",
    "b = mw.Component(name=\"b\")\n",
    "c = mw.Component(name=\"c\")\n",
    "test = mw.DummySensor(name=\"test\")\n",
    "test2 = mw.DummySensor(name=\"test2\")\n",
    "test3 = mw.DummySensor(name=\"test3\")\n",
    "test4 = mw.DummySensor(name=\"test4\")\n",
    "\n",
    "# create apparatus\n",
    "A = mw.Apparatus()\n",
    "A.add([a, b, c], test, mw.Tube(\"1 foot\", \"1/16 in\", \"2/16 in\", \"PVC\"))\n",
    "A.add([a, b, c], test2, mw.Tube(\"1 foot\", \"1/16 in\", \"2/16 in\", \"PVC\"))\n",
    "A.add([a, b, c], test3, mw.Tube(\"1 foot\", \"1/16 in\", \"2/16 in\", \"PVC\"))\n",
    "A.add([a, b, c], test4, mw.Tube(\"1 foot\", \"1/16 in\", \"2/16 in\", \"PVC\"))\n",
    "\n",
    "P = mw.Protocol(A, duration=\"auto\")\n",
    "P.add(test, rate=\"5 Hz\", start=\"4 secs\", stop=\"30 secs\")\n",
    "P.add(test2, rate=\"5 Hz\", start=\"4.1 secs\", stop=\"30 secs\")\n",
    "P.add(test3, rate=\"5 Hz\", start=\"4.1 secs\", stop=\"30 secs\")\n",
    "P.add(test4, rate=\"5 Hz\", start=\"4.1 secs\", stop=\"30 secs\")"
   ]
  },
  {
   "cell_type": "code",
   "execution_count": 2,
   "metadata": {},
   "outputs": [
    {
     "data": {
      "text/html": [
       "\n",
       "        <iframe\n",
       "            width=\"900\"\n",
       "            height=\"300\"\n",
       "            src=\"vis.html\"\n",
       "            frameborder=\"0\"\n",
       "            allowfullscreen\n",
       "        ></iframe>\n",
       "        "
      ],
      "text/plain": [
       "<IPython.lib.display.IFrame at 0x10b541b00>"
      ]
     },
     "execution_count": 2,
     "metadata": {},
     "output_type": "execute_result"
    }
   ],
   "source": [
    "P.visualize()"
   ]
  },
  {
   "cell_type": "code",
   "execution_count": 3,
   "metadata": {},
   "outputs": [
    {
     "name": "stdout",
     "output_type": "stream",
     "text": [
      "Experiment 2019_01_24_e8c69698-1fee-11e9-950b-7cd1c3dd68bf in progress\n"
     ]
    },
    {
     "name": "stderr",
     "output_type": "stream",
     "text": [
      "INFO:root:Executing: {'time': <Quantity(4, 'second')>, 'params': {'rate': '5 Hz'}} on <DummySensor test> at 1548344661.983198\n",
      "INFO:root:Executing: {'time': <Quantity(4.1, 'second')>, 'params': {'rate': '5 Hz'}} on <DummySensor test4> at 1548344662.167361\n",
      "INFO:root:Executing: {'time': <Quantity(4.1, 'second')>, 'params': {'rate': '5 Hz'}} on <DummySensor test2> at 1548344662.3126159\n",
      "INFO:root:Executing: {'time': <Quantity(4.1, 'second')>, 'params': {'rate': '5 Hz'}} on <DummySensor test3> at 1548344662.370046\n",
      "INFO:root:Executing: {'time': <Quantity(30, 'second')>, 'params': {'rate': '0 Hz'}} on <DummySensor test4> at 1548344687.9852312\n",
      "INFO:root:Executing: {'time': <Quantity(30, 'second')>, 'params': {'rate': '0 Hz'}} on <DummySensor test> at 1548344688.0008829\n",
      "INFO:root:Executing: {'time': <Quantity(30, 'second')>, 'params': {'rate': '0 Hz'}} on <DummySensor test2> at 1548344688.0141282\n",
      "INFO:root:Executing: {'time': <Quantity(30, 'second')>, 'params': {'rate': '0 Hz'}} on <DummySensor test3> at 1548344688.048535\n"
     ]
    }
   ],
   "source": [
    "#Returns immediately with an Experiment object that will update as it gets new data\n",
    "E = jupyter_execute(P)"
   ]
  },
  {
   "cell_type": "code",
   "execution_count": 7,
   "metadata": {
    "scrolled": true
   },
   "outputs": [
    {
     "data": {
      "text/html": [
       "\n",
       "    <div class=\"bk-root\">\n",
       "        <a href=\"https://bokeh.pydata.org\" target=\"_blank\" class=\"bk-logo bk-logo-small bk-logo-notebook\"></a>\n",
       "        <span id=\"1526\">Loading BokehJS ...</span>\n",
       "    </div>"
      ]
     },
     "metadata": {},
     "output_type": "display_data"
    },
    {
     "data": {
      "application/javascript": [
       "\n",
       "(function(root) {\n",
       "  function now() {\n",
       "    return new Date();\n",
       "  }\n",
       "\n",
       "  var force = true;\n",
       "\n",
       "  if (typeof (root._bokeh_onload_callbacks) === \"undefined\" || force === true) {\n",
       "    root._bokeh_onload_callbacks = [];\n",
       "    root._bokeh_is_loading = undefined;\n",
       "  }\n",
       "\n",
       "  var JS_MIME_TYPE = 'application/javascript';\n",
       "  var HTML_MIME_TYPE = 'text/html';\n",
       "  var EXEC_MIME_TYPE = 'application/vnd.bokehjs_exec.v0+json';\n",
       "  var CLASS_NAME = 'output_bokeh rendered_html';\n",
       "\n",
       "  /**\n",
       "   * Render data to the DOM node\n",
       "   */\n",
       "  function render(props, node) {\n",
       "    var script = document.createElement(\"script\");\n",
       "    node.appendChild(script);\n",
       "  }\n",
       "\n",
       "  /**\n",
       "   * Handle when an output is cleared or removed\n",
       "   */\n",
       "  function handleClearOutput(event, handle) {\n",
       "    var cell = handle.cell;\n",
       "\n",
       "    var id = cell.output_area._bokeh_element_id;\n",
       "    var server_id = cell.output_area._bokeh_server_id;\n",
       "    // Clean up Bokeh references\n",
       "    if (id != null && id in Bokeh.index) {\n",
       "      Bokeh.index[id].model.document.clear();\n",
       "      delete Bokeh.index[id];\n",
       "    }\n",
       "\n",
       "    if (server_id !== undefined) {\n",
       "      // Clean up Bokeh references\n",
       "      var cmd = \"from bokeh.io.state import curstate; print(curstate().uuid_to_server['\" + server_id + \"'].get_sessions()[0].document.roots[0]._id)\";\n",
       "      cell.notebook.kernel.execute(cmd, {\n",
       "        iopub: {\n",
       "          output: function(msg) {\n",
       "            var id = msg.content.text.trim();\n",
       "            if (id in Bokeh.index) {\n",
       "              Bokeh.index[id].model.document.clear();\n",
       "              delete Bokeh.index[id];\n",
       "            }\n",
       "          }\n",
       "        }\n",
       "      });\n",
       "      // Destroy server and session\n",
       "      var cmd = \"import bokeh.io.notebook as ion; ion.destroy_server('\" + server_id + \"')\";\n",
       "      cell.notebook.kernel.execute(cmd);\n",
       "    }\n",
       "  }\n",
       "\n",
       "  /**\n",
       "   * Handle when a new output is added\n",
       "   */\n",
       "  function handleAddOutput(event, handle) {\n",
       "    var output_area = handle.output_area;\n",
       "    var output = handle.output;\n",
       "\n",
       "    // limit handleAddOutput to display_data with EXEC_MIME_TYPE content only\n",
       "    if ((output.output_type != \"display_data\") || (!output.data.hasOwnProperty(EXEC_MIME_TYPE))) {\n",
       "      return\n",
       "    }\n",
       "\n",
       "    var toinsert = output_area.element.find(\".\" + CLASS_NAME.split(' ')[0]);\n",
       "\n",
       "    if (output.metadata[EXEC_MIME_TYPE][\"id\"] !== undefined) {\n",
       "      toinsert[toinsert.length - 1].firstChild.textContent = output.data[JS_MIME_TYPE];\n",
       "      // store reference to embed id on output_area\n",
       "      output_area._bokeh_element_id = output.metadata[EXEC_MIME_TYPE][\"id\"];\n",
       "    }\n",
       "    if (output.metadata[EXEC_MIME_TYPE][\"server_id\"] !== undefined) {\n",
       "      var bk_div = document.createElement(\"div\");\n",
       "      bk_div.innerHTML = output.data[HTML_MIME_TYPE];\n",
       "      var script_attrs = bk_div.children[0].attributes;\n",
       "      for (var i = 0; i < script_attrs.length; i++) {\n",
       "        toinsert[toinsert.length - 1].firstChild.setAttribute(script_attrs[i].name, script_attrs[i].value);\n",
       "      }\n",
       "      // store reference to server id on output_area\n",
       "      output_area._bokeh_server_id = output.metadata[EXEC_MIME_TYPE][\"server_id\"];\n",
       "    }\n",
       "  }\n",
       "\n",
       "  function register_renderer(events, OutputArea) {\n",
       "\n",
       "    function append_mime(data, metadata, element) {\n",
       "      // create a DOM node to render to\n",
       "      var toinsert = this.create_output_subarea(\n",
       "        metadata,\n",
       "        CLASS_NAME,\n",
       "        EXEC_MIME_TYPE\n",
       "      );\n",
       "      this.keyboard_manager.register_events(toinsert);\n",
       "      // Render to node\n",
       "      var props = {data: data, metadata: metadata[EXEC_MIME_TYPE]};\n",
       "      render(props, toinsert[toinsert.length - 1]);\n",
       "      element.append(toinsert);\n",
       "      return toinsert\n",
       "    }\n",
       "\n",
       "    /* Handle when an output is cleared or removed */\n",
       "    events.on('clear_output.CodeCell', handleClearOutput);\n",
       "    events.on('delete.Cell', handleClearOutput);\n",
       "\n",
       "    /* Handle when a new output is added */\n",
       "    events.on('output_added.OutputArea', handleAddOutput);\n",
       "\n",
       "    /**\n",
       "     * Register the mime type and append_mime function with output_area\n",
       "     */\n",
       "    OutputArea.prototype.register_mime_type(EXEC_MIME_TYPE, append_mime, {\n",
       "      /* Is output safe? */\n",
       "      safe: true,\n",
       "      /* Index of renderer in `output_area.display_order` */\n",
       "      index: 0\n",
       "    });\n",
       "  }\n",
       "\n",
       "  // register the mime type if in Jupyter Notebook environment and previously unregistered\n",
       "  if (root.Jupyter !== undefined) {\n",
       "    var events = require('base/js/events');\n",
       "    var OutputArea = require('notebook/js/outputarea').OutputArea;\n",
       "\n",
       "    if (OutputArea.prototype.mime_types().indexOf(EXEC_MIME_TYPE) == -1) {\n",
       "      register_renderer(events, OutputArea);\n",
       "    }\n",
       "  }\n",
       "\n",
       "  \n",
       "  if (typeof (root._bokeh_timeout) === \"undefined\" || force === true) {\n",
       "    root._bokeh_timeout = Date.now() + 5000;\n",
       "    root._bokeh_failed_load = false;\n",
       "  }\n",
       "\n",
       "  var NB_LOAD_WARNING = {'data': {'text/html':\n",
       "     \"<div style='background-color: #fdd'>\\n\"+\n",
       "     \"<p>\\n\"+\n",
       "     \"BokehJS does not appear to have successfully loaded. If loading BokehJS from CDN, this \\n\"+\n",
       "     \"may be due to a slow or bad network connection. Possible fixes:\\n\"+\n",
       "     \"</p>\\n\"+\n",
       "     \"<ul>\\n\"+\n",
       "     \"<li>re-rerun `output_notebook()` to attempt to load from CDN again, or</li>\\n\"+\n",
       "     \"<li>use INLINE resources instead, as so:</li>\\n\"+\n",
       "     \"</ul>\\n\"+\n",
       "     \"<code>\\n\"+\n",
       "     \"from bokeh.resources import INLINE\\n\"+\n",
       "     \"output_notebook(resources=INLINE)\\n\"+\n",
       "     \"</code>\\n\"+\n",
       "     \"</div>\"}};\n",
       "\n",
       "  function display_loaded() {\n",
       "    var el = document.getElementById(\"1526\");\n",
       "    if (el != null) {\n",
       "      el.textContent = \"BokehJS is loading...\";\n",
       "    }\n",
       "    if (root.Bokeh !== undefined) {\n",
       "      if (el != null) {\n",
       "        el.textContent = \"BokehJS \" + root.Bokeh.version + \" successfully loaded.\";\n",
       "      }\n",
       "    } else if (Date.now() < root._bokeh_timeout) {\n",
       "      setTimeout(display_loaded, 100)\n",
       "    }\n",
       "  }\n",
       "\n",
       "\n",
       "  function run_callbacks() {\n",
       "    try {\n",
       "      root._bokeh_onload_callbacks.forEach(function(callback) { callback() });\n",
       "    }\n",
       "    finally {\n",
       "      delete root._bokeh_onload_callbacks\n",
       "    }\n",
       "    console.info(\"Bokeh: all callbacks have finished\");\n",
       "  }\n",
       "\n",
       "  function load_libs(js_urls, callback) {\n",
       "    root._bokeh_onload_callbacks.push(callback);\n",
       "    if (root._bokeh_is_loading > 0) {\n",
       "      console.log(\"Bokeh: BokehJS is being loaded, scheduling callback at\", now());\n",
       "      return null;\n",
       "    }\n",
       "    if (js_urls == null || js_urls.length === 0) {\n",
       "      run_callbacks();\n",
       "      return null;\n",
       "    }\n",
       "    console.log(\"Bokeh: BokehJS not loaded, scheduling load and callback at\", now());\n",
       "    root._bokeh_is_loading = js_urls.length;\n",
       "    for (var i = 0; i < js_urls.length; i++) {\n",
       "      var url = js_urls[i];\n",
       "      var s = document.createElement('script');\n",
       "      s.src = url;\n",
       "      s.async = false;\n",
       "      s.onreadystatechange = s.onload = function() {\n",
       "        root._bokeh_is_loading--;\n",
       "        if (root._bokeh_is_loading === 0) {\n",
       "          console.log(\"Bokeh: all BokehJS libraries loaded\");\n",
       "          run_callbacks()\n",
       "        }\n",
       "      };\n",
       "      s.onerror = function() {\n",
       "        console.warn(\"failed to load library \" + url);\n",
       "      };\n",
       "      console.log(\"Bokeh: injecting script tag for BokehJS library: \", url);\n",
       "      document.getElementsByTagName(\"head\")[0].appendChild(s);\n",
       "    }\n",
       "  };var element = document.getElementById(\"1526\");\n",
       "  if (element == null) {\n",
       "    console.log(\"Bokeh: ERROR: autoload.js configured with elementid '1526' but no matching script tag was found. \")\n",
       "    return false;\n",
       "  }\n",
       "\n",
       "  var js_urls = [\"https://cdn.pydata.org/bokeh/release/bokeh-1.0.2.min.js\", \"https://cdn.pydata.org/bokeh/release/bokeh-widgets-1.0.2.min.js\", \"https://cdn.pydata.org/bokeh/release/bokeh-tables-1.0.2.min.js\", \"https://cdn.pydata.org/bokeh/release/bokeh-gl-1.0.2.min.js\"];\n",
       "\n",
       "  var inline_js = [\n",
       "    function(Bokeh) {\n",
       "      Bokeh.set_log_level(\"info\");\n",
       "    },\n",
       "    \n",
       "    function(Bokeh) {\n",
       "      \n",
       "    },\n",
       "    function(Bokeh) {\n",
       "      console.log(\"Bokeh: injecting CSS: https://cdn.pydata.org/bokeh/release/bokeh-1.0.2.min.css\");\n",
       "      Bokeh.embed.inject_css(\"https://cdn.pydata.org/bokeh/release/bokeh-1.0.2.min.css\");\n",
       "      console.log(\"Bokeh: injecting CSS: https://cdn.pydata.org/bokeh/release/bokeh-widgets-1.0.2.min.css\");\n",
       "      Bokeh.embed.inject_css(\"https://cdn.pydata.org/bokeh/release/bokeh-widgets-1.0.2.min.css\");\n",
       "      console.log(\"Bokeh: injecting CSS: https://cdn.pydata.org/bokeh/release/bokeh-tables-1.0.2.min.css\");\n",
       "      Bokeh.embed.inject_css(\"https://cdn.pydata.org/bokeh/release/bokeh-tables-1.0.2.min.css\");\n",
       "    }\n",
       "  ];\n",
       "\n",
       "  function run_inline_js() {\n",
       "    \n",
       "    if ((root.Bokeh !== undefined) || (force === true)) {\n",
       "      for (var i = 0; i < inline_js.length; i++) {\n",
       "        inline_js[i].call(root, root.Bokeh);\n",
       "      }if (force === true) {\n",
       "        display_loaded();\n",
       "      }} else if (Date.now() < root._bokeh_timeout) {\n",
       "      setTimeout(run_inline_js, 100);\n",
       "    } else if (!root._bokeh_failed_load) {\n",
       "      console.log(\"Bokeh: BokehJS failed to load within specified timeout.\");\n",
       "      root._bokeh_failed_load = true;\n",
       "    } else if (force !== true) {\n",
       "      var cell = $(document.getElementById(\"1526\")).parents('.cell').data().cell;\n",
       "      cell.output_area.append_execute_result(NB_LOAD_WARNING)\n",
       "    }\n",
       "\n",
       "  }\n",
       "\n",
       "  if (root._bokeh_is_loading === 0) {\n",
       "    console.log(\"Bokeh: BokehJS loaded, going straight to plotting\");\n",
       "    run_inline_js();\n",
       "  } else {\n",
       "    load_libs(js_urls, function() {\n",
       "      console.log(\"Bokeh: BokehJS plotting callback run at\", now());\n",
       "      run_inline_js();\n",
       "    });\n",
       "  }\n",
       "}(window));"
      ],
      "application/vnd.bokehjs_load.v0+json": "\n(function(root) {\n  function now() {\n    return new Date();\n  }\n\n  var force = true;\n\n  if (typeof (root._bokeh_onload_callbacks) === \"undefined\" || force === true) {\n    root._bokeh_onload_callbacks = [];\n    root._bokeh_is_loading = undefined;\n  }\n\n  \n\n  \n  if (typeof (root._bokeh_timeout) === \"undefined\" || force === true) {\n    root._bokeh_timeout = Date.now() + 5000;\n    root._bokeh_failed_load = false;\n  }\n\n  var NB_LOAD_WARNING = {'data': {'text/html':\n     \"<div style='background-color: #fdd'>\\n\"+\n     \"<p>\\n\"+\n     \"BokehJS does not appear to have successfully loaded. If loading BokehJS from CDN, this \\n\"+\n     \"may be due to a slow or bad network connection. Possible fixes:\\n\"+\n     \"</p>\\n\"+\n     \"<ul>\\n\"+\n     \"<li>re-rerun `output_notebook()` to attempt to load from CDN again, or</li>\\n\"+\n     \"<li>use INLINE resources instead, as so:</li>\\n\"+\n     \"</ul>\\n\"+\n     \"<code>\\n\"+\n     \"from bokeh.resources import INLINE\\n\"+\n     \"output_notebook(resources=INLINE)\\n\"+\n     \"</code>\\n\"+\n     \"</div>\"}};\n\n  function display_loaded() {\n    var el = document.getElementById(\"1526\");\n    if (el != null) {\n      el.textContent = \"BokehJS is loading...\";\n    }\n    if (root.Bokeh !== undefined) {\n      if (el != null) {\n        el.textContent = \"BokehJS \" + root.Bokeh.version + \" successfully loaded.\";\n      }\n    } else if (Date.now() < root._bokeh_timeout) {\n      setTimeout(display_loaded, 100)\n    }\n  }\n\n\n  function run_callbacks() {\n    try {\n      root._bokeh_onload_callbacks.forEach(function(callback) { callback() });\n    }\n    finally {\n      delete root._bokeh_onload_callbacks\n    }\n    console.info(\"Bokeh: all callbacks have finished\");\n  }\n\n  function load_libs(js_urls, callback) {\n    root._bokeh_onload_callbacks.push(callback);\n    if (root._bokeh_is_loading > 0) {\n      console.log(\"Bokeh: BokehJS is being loaded, scheduling callback at\", now());\n      return null;\n    }\n    if (js_urls == null || js_urls.length === 0) {\n      run_callbacks();\n      return null;\n    }\n    console.log(\"Bokeh: BokehJS not loaded, scheduling load and callback at\", now());\n    root._bokeh_is_loading = js_urls.length;\n    for (var i = 0; i < js_urls.length; i++) {\n      var url = js_urls[i];\n      var s = document.createElement('script');\n      s.src = url;\n      s.async = false;\n      s.onreadystatechange = s.onload = function() {\n        root._bokeh_is_loading--;\n        if (root._bokeh_is_loading === 0) {\n          console.log(\"Bokeh: all BokehJS libraries loaded\");\n          run_callbacks()\n        }\n      };\n      s.onerror = function() {\n        console.warn(\"failed to load library \" + url);\n      };\n      console.log(\"Bokeh: injecting script tag for BokehJS library: \", url);\n      document.getElementsByTagName(\"head\")[0].appendChild(s);\n    }\n  };var element = document.getElementById(\"1526\");\n  if (element == null) {\n    console.log(\"Bokeh: ERROR: autoload.js configured with elementid '1526' but no matching script tag was found. \")\n    return false;\n  }\n\n  var js_urls = [\"https://cdn.pydata.org/bokeh/release/bokeh-1.0.2.min.js\", \"https://cdn.pydata.org/bokeh/release/bokeh-widgets-1.0.2.min.js\", \"https://cdn.pydata.org/bokeh/release/bokeh-tables-1.0.2.min.js\", \"https://cdn.pydata.org/bokeh/release/bokeh-gl-1.0.2.min.js\"];\n\n  var inline_js = [\n    function(Bokeh) {\n      Bokeh.set_log_level(\"info\");\n    },\n    \n    function(Bokeh) {\n      \n    },\n    function(Bokeh) {\n      console.log(\"Bokeh: injecting CSS: https://cdn.pydata.org/bokeh/release/bokeh-1.0.2.min.css\");\n      Bokeh.embed.inject_css(\"https://cdn.pydata.org/bokeh/release/bokeh-1.0.2.min.css\");\n      console.log(\"Bokeh: injecting CSS: https://cdn.pydata.org/bokeh/release/bokeh-widgets-1.0.2.min.css\");\n      Bokeh.embed.inject_css(\"https://cdn.pydata.org/bokeh/release/bokeh-widgets-1.0.2.min.css\");\n      console.log(\"Bokeh: injecting CSS: https://cdn.pydata.org/bokeh/release/bokeh-tables-1.0.2.min.css\");\n      Bokeh.embed.inject_css(\"https://cdn.pydata.org/bokeh/release/bokeh-tables-1.0.2.min.css\");\n    }\n  ];\n\n  function run_inline_js() {\n    \n    if ((root.Bokeh !== undefined) || (force === true)) {\n      for (var i = 0; i < inline_js.length; i++) {\n        inline_js[i].call(root, root.Bokeh);\n      }if (force === true) {\n        display_loaded();\n      }} else if (Date.now() < root._bokeh_timeout) {\n      setTimeout(run_inline_js, 100);\n    } else if (!root._bokeh_failed_load) {\n      console.log(\"Bokeh: BokehJS failed to load within specified timeout.\");\n      root._bokeh_failed_load = true;\n    } else if (force !== true) {\n      var cell = $(document.getElementById(\"1526\")).parents('.cell').data().cell;\n      cell.output_area.append_execute_result(NB_LOAD_WARNING)\n    }\n\n  }\n\n  if (root._bokeh_is_loading === 0) {\n    console.log(\"Bokeh: BokehJS loaded, going straight to plotting\");\n    run_inline_js();\n  } else {\n    load_libs(js_urls, function() {\n      console.log(\"Bokeh: BokehJS plotting callback run at\", now());\n      run_inline_js();\n    });\n  }\n}(window));"
     },
     "metadata": {},
     "output_type": "display_data"
    },
    {
     "data": {
      "text/html": [
       "\n",
       "\n",
       "\n",
       "\n",
       "\n",
       "\n",
       "  <div class=\"bk-root\" id=\"9bf1832e-fb45-4432-848a-7274d6fe5671\"></div>\n"
      ]
     },
     "metadata": {},
     "output_type": "display_data"
    },
    {
     "data": {
      "application/javascript": [
       "(function(root) {\n",
       "  function embed_document(root) {\n",
       "    \n",
       "  var docs_json = {\"8ce5fa92-d260-4a86-adcd-240fe3f7ff55\":{\"roots\":{\"references\":[{\"attributes\":{\"below\":[{\"id\":\"1538\",\"type\":\"LinearAxis\"}],\"left\":[{\"id\":\"1543\",\"type\":\"LinearAxis\"}],\"plot_height\":300,\"renderers\":[{\"id\":\"1538\",\"type\":\"LinearAxis\"},{\"id\":\"1542\",\"type\":\"Grid\"},{\"id\":\"1543\",\"type\":\"LinearAxis\"},{\"id\":\"1547\",\"type\":\"Grid\"},{\"id\":\"1556\",\"type\":\"BoxAnnotation\"},{\"id\":\"1567\",\"type\":\"GlyphRenderer\"}],\"title\":{\"id\":\"1527\",\"type\":\"Title\"},\"toolbar\":{\"id\":\"1554\",\"type\":\"Toolbar\"},\"x_range\":{\"id\":\"1530\",\"type\":\"DataRange1d\"},\"x_scale\":{\"id\":\"1534\",\"type\":\"LinearScale\"},\"y_range\":{\"id\":\"1532\",\"type\":\"DataRange1d\"},\"y_scale\":{\"id\":\"1536\",\"type\":\"LinearScale\"}},\"id\":\"1528\",\"subtype\":\"Figure\",\"type\":\"Plot\"},{\"attributes\":{\"overlay\":{\"id\":\"1556\",\"type\":\"BoxAnnotation\"}},\"id\":\"1550\",\"type\":\"BoxZoomTool\"},{\"attributes\":{\"formatter\":{\"id\":\"1603\",\"type\":\"BasicTickFormatter\"},\"plot\":{\"id\":\"1528\",\"subtype\":\"Figure\",\"type\":\"Plot\"},\"ticker\":{\"id\":\"1539\",\"type\":\"BasicTicker\"}},\"id\":\"1538\",\"type\":\"LinearAxis\"},{\"attributes\":{},\"id\":\"1551\",\"type\":\"SaveTool\"},{\"attributes\":{},\"id\":\"1536\",\"type\":\"LinearScale\"},{\"attributes\":{\"line_color\":\"#2222aa\",\"line_width\":3,\"x\":{\"field\":\"timestamps\"},\"y\":{\"field\":\"datapoints\"}},\"id\":\"1565\",\"type\":\"Line\"},{\"attributes\":{},\"id\":\"1552\",\"type\":\"ResetTool\"},{\"attributes\":{},\"id\":\"1553\",\"type\":\"HelpTool\"},{\"attributes\":{\"active_drag\":\"auto\",\"active_inspect\":\"auto\",\"active_multi\":null,\"active_scroll\":\"auto\",\"active_tap\":\"auto\",\"tools\":[{\"id\":\"1548\",\"type\":\"PanTool\"},{\"id\":\"1549\",\"type\":\"WheelZoomTool\"},{\"id\":\"1550\",\"type\":\"BoxZoomTool\"},{\"id\":\"1551\",\"type\":\"SaveTool\"},{\"id\":\"1552\",\"type\":\"ResetTool\"},{\"id\":\"1553\",\"type\":\"HelpTool\"}]},\"id\":\"1554\",\"type\":\"Toolbar\"},{\"attributes\":{\"data_source\":{\"id\":\"1563\",\"type\":\"ColumnDataSource\"},\"glyph\":{\"id\":\"1565\",\"type\":\"Line\"},\"hover_glyph\":null,\"muted_glyph\":null,\"nonselection_glyph\":{\"id\":\"1566\",\"type\":\"Line\"},\"selection_glyph\":null,\"view\":{\"id\":\"1568\",\"type\":\"CDSView\"}},\"id\":\"1567\",\"type\":\"GlyphRenderer\"},{\"attributes\":{},\"id\":\"1544\",\"type\":\"BasicTicker\"},{\"attributes\":{\"bottom_units\":\"screen\",\"fill_alpha\":{\"value\":0.5},\"fill_color\":{\"value\":\"lightgrey\"},\"left_units\":\"screen\",\"level\":\"overlay\",\"line_alpha\":{\"value\":1.0},\"line_color\":{\"value\":\"black\"},\"line_dash\":[4,4],\"line_width\":{\"value\":2},\"plot\":null,\"render_mode\":\"css\",\"right_units\":\"screen\",\"top_units\":\"screen\"},\"id\":\"1556\",\"type\":\"BoxAnnotation\"},{\"attributes\":{\"source\":{\"id\":\"1563\",\"type\":\"ColumnDataSource\"}},\"id\":\"1568\",\"type\":\"CDSView\"},{\"attributes\":{\"plot\":null,\"text\":\"test3 data\"},\"id\":\"1527\",\"type\":\"Title\"},{\"attributes\":{},\"id\":\"1603\",\"type\":\"BasicTickFormatter\"},{\"attributes\":{},\"id\":\"1534\",\"type\":\"LinearScale\"},{\"attributes\":{\"callback\":null},\"id\":\"1530\",\"type\":\"DataRange1d\"},{\"attributes\":{\"callback\":null},\"id\":\"1532\",\"type\":\"DataRange1d\"},{\"attributes\":{},\"id\":\"1605\",\"type\":\"BasicTickFormatter\"},{\"attributes\":{},\"id\":\"1607\",\"type\":\"Selection\"},{\"attributes\":{\"formatter\":{\"id\":\"1605\",\"type\":\"BasicTickFormatter\"},\"plot\":{\"id\":\"1528\",\"subtype\":\"Figure\",\"type\":\"Plot\"},\"ticker\":{\"id\":\"1544\",\"type\":\"BasicTicker\"}},\"id\":\"1543\",\"type\":\"LinearAxis\"},{\"attributes\":{\"plot\":{\"id\":\"1528\",\"subtype\":\"Figure\",\"type\":\"Plot\"},\"ticker\":{\"id\":\"1539\",\"type\":\"BasicTicker\"}},\"id\":\"1542\",\"type\":\"Grid\"},{\"attributes\":{\"line_alpha\":0.1,\"line_color\":\"#1f77b4\",\"line_width\":3,\"x\":{\"field\":\"timestamps\"},\"y\":{\"field\":\"datapoints\"}},\"id\":\"1566\",\"type\":\"Line\"},{\"attributes\":{},\"id\":\"1608\",\"type\":\"UnionRenderers\"},{\"attributes\":{\"dimension\":1,\"plot\":{\"id\":\"1528\",\"subtype\":\"Figure\",\"type\":\"Plot\"},\"ticker\":{\"id\":\"1544\",\"type\":\"BasicTicker\"}},\"id\":\"1547\",\"type\":\"Grid\"},{\"attributes\":{},\"id\":\"1539\",\"type\":\"BasicTicker\"},{\"attributes\":{\"callback\":null,\"data\":{\"datapoints\":[22.796841470698357,24.999801832647968,24.76052714227031,21.911501161359183,16.55884021514407,9.088783369934523,0.14333827770385538,-9.433847647463237,-18.676943625598533,-26.595247091457672,-32.278554396627605,-34.999456229475676,-34.30125502496781,-30.061265656619145,-22.521486460808667,-12.281815231943222,-0.2548228507060854,12.41480679520692,24.45914144213138,34.61382435921795,41.7501784123203,44.998844291423055,43.85156518391133],\"timestamps\":[0.02163410186767578,0.22235512733459473,0.4228229522705078,0.6232669353485107,0.8236570358276367,1.0240960121154785,1.2246019840240479,1.4266769886016846,1.627134084701538,1.8275971412658691,2.027992010116577,2.22839617729187,2.4288699626922607,2.631381034851074,2.831862211227417,3.0324740409851074,3.233025074005127,3.4355359077453613,3.636133909225464,3.8367950916290283,4.0458221435546875,4.24638295173645,4.448741912841797]},\"selected\":{\"id\":\"1607\",\"type\":\"Selection\"},\"selection_policy\":{\"id\":\"1608\",\"type\":\"UnionRenderers\"}},\"id\":\"1563\",\"type\":\"ColumnDataSource\"},{\"attributes\":{},\"id\":\"1549\",\"type\":\"WheelZoomTool\"},{\"attributes\":{},\"id\":\"1548\",\"type\":\"PanTool\"}],\"root_ids\":[\"1528\"]},\"title\":\"Bokeh Application\",\"version\":\"1.0.2\"}};\n",
       "  var render_items = [{\"docid\":\"8ce5fa92-d260-4a86-adcd-240fe3f7ff55\",\"notebook_comms_target\":\"1609\",\"roots\":{\"1528\":\"9bf1832e-fb45-4432-848a-7274d6fe5671\"}}];\n",
       "  root.Bokeh.embed.embed_items_notebook(docs_json, render_items);\n",
       "\n",
       "  }\n",
       "  if (root.Bokeh !== undefined) {\n",
       "    embed_document(root);\n",
       "  } else {\n",
       "    var attempts = 0;\n",
       "    var timer = setInterval(function(root) {\n",
       "      if (root.Bokeh !== undefined) {\n",
       "        embed_document(root);\n",
       "        clearInterval(timer);\n",
       "      }\n",
       "      attempts++;\n",
       "      if (attempts > 100) {\n",
       "        console.log(\"Bokeh: ERROR: Unable to run BokehJS code because BokehJS library is missing\");\n",
       "        clearInterval(timer);\n",
       "      }\n",
       "    }, 10, root)\n",
       "  }\n",
       "})(window);"
      ],
      "application/vnd.bokehjs_exec.v0+json": ""
     },
     "metadata": {
      "application/vnd.bokehjs_exec.v0+json": {
       "id": "1528"
      }
     },
     "output_type": "display_data"
    },
    {
     "data": {
      "text/html": [
       "\n",
       "\n",
       "\n",
       "\n",
       "\n",
       "\n",
       "  <div class=\"bk-root\" id=\"8e9907ab-8092-4d05-8239-5676a3926ff0\"></div>\n"
      ]
     },
     "metadata": {},
     "output_type": "display_data"
    },
    {
     "data": {
      "application/javascript": [
       "(function(root) {\n",
       "  function embed_document(root) {\n",
       "    \n",
       "  var docs_json = {\"7758b4a8-0d16-43fa-8677-86159e7c63e3\":{\"roots\":{\"references\":[{\"attributes\":{\"below\":[{\"id\":\"1669\",\"type\":\"LinearAxis\"}],\"left\":[{\"id\":\"1674\",\"type\":\"LinearAxis\"}],\"plot_height\":300,\"renderers\":[{\"id\":\"1669\",\"type\":\"LinearAxis\"},{\"id\":\"1673\",\"type\":\"Grid\"},{\"id\":\"1674\",\"type\":\"LinearAxis\"},{\"id\":\"1678\",\"type\":\"Grid\"},{\"id\":\"1687\",\"type\":\"BoxAnnotation\"},{\"id\":\"1698\",\"type\":\"GlyphRenderer\"}],\"title\":{\"id\":\"1658\",\"type\":\"Title\"},\"toolbar\":{\"id\":\"1685\",\"type\":\"Toolbar\"},\"x_range\":{\"id\":\"1661\",\"type\":\"DataRange1d\"},\"x_scale\":{\"id\":\"1665\",\"type\":\"LinearScale\"},\"y_range\":{\"id\":\"1663\",\"type\":\"DataRange1d\"},\"y_scale\":{\"id\":\"1667\",\"type\":\"LinearScale\"}},\"id\":\"1659\",\"subtype\":\"Figure\",\"type\":\"Plot\"},{\"attributes\":{\"formatter\":{\"id\":\"1744\",\"type\":\"BasicTickFormatter\"},\"plot\":{\"id\":\"1659\",\"subtype\":\"Figure\",\"type\":\"Plot\"},\"ticker\":{\"id\":\"1675\",\"type\":\"BasicTicker\"}},\"id\":\"1674\",\"type\":\"LinearAxis\"},{\"attributes\":{\"data_source\":{\"id\":\"1694\",\"type\":\"ColumnDataSource\"},\"glyph\":{\"id\":\"1696\",\"type\":\"Line\"},\"hover_glyph\":null,\"muted_glyph\":null,\"nonselection_glyph\":{\"id\":\"1697\",\"type\":\"Line\"},\"selection_glyph\":null,\"view\":{\"id\":\"1699\",\"type\":\"CDSView\"}},\"id\":\"1698\",\"type\":\"GlyphRenderer\"},{\"attributes\":{\"plot\":{\"id\":\"1659\",\"subtype\":\"Figure\",\"type\":\"Plot\"},\"ticker\":{\"id\":\"1670\",\"type\":\"BasicTicker\"}},\"id\":\"1673\",\"type\":\"Grid\"},{\"attributes\":{\"source\":{\"id\":\"1694\",\"type\":\"ColumnDataSource\"}},\"id\":\"1699\",\"type\":\"CDSView\"},{\"attributes\":{},\"id\":\"1675\",\"type\":\"BasicTicker\"},{\"attributes\":{\"dimension\":1,\"plot\":{\"id\":\"1659\",\"subtype\":\"Figure\",\"type\":\"Plot\"},\"ticker\":{\"id\":\"1675\",\"type\":\"BasicTicker\"}},\"id\":\"1678\",\"type\":\"Grid\"},{\"attributes\":{\"active_drag\":\"auto\",\"active_inspect\":\"auto\",\"active_multi\":null,\"active_scroll\":\"auto\",\"active_tap\":\"auto\",\"tools\":[{\"id\":\"1679\",\"type\":\"PanTool\"},{\"id\":\"1680\",\"type\":\"WheelZoomTool\"},{\"id\":\"1681\",\"type\":\"BoxZoomTool\"},{\"id\":\"1682\",\"type\":\"SaveTool\"},{\"id\":\"1683\",\"type\":\"ResetTool\"},{\"id\":\"1684\",\"type\":\"HelpTool\"}]},\"id\":\"1685\",\"type\":\"Toolbar\"},{\"attributes\":{},\"id\":\"1670\",\"type\":\"BasicTicker\"},{\"attributes\":{},\"id\":\"1746\",\"type\":\"Selection\"},{\"attributes\":{\"formatter\":{\"id\":\"1742\",\"type\":\"BasicTickFormatter\"},\"plot\":{\"id\":\"1659\",\"subtype\":\"Figure\",\"type\":\"Plot\"},\"ticker\":{\"id\":\"1670\",\"type\":\"BasicTicker\"}},\"id\":\"1669\",\"type\":\"LinearAxis\"},{\"attributes\":{},\"id\":\"1742\",\"type\":\"BasicTickFormatter\"},{\"attributes\":{},\"id\":\"1667\",\"type\":\"LinearScale\"},{\"attributes\":{},\"id\":\"1744\",\"type\":\"BasicTickFormatter\"},{\"attributes\":{},\"id\":\"1665\",\"type\":\"LinearScale\"},{\"attributes\":{},\"id\":\"1747\",\"type\":\"UnionRenderers\"},{\"attributes\":{\"callback\":null},\"id\":\"1663\",\"type\":\"DataRange1d\"},{\"attributes\":{\"bottom_units\":\"screen\",\"fill_alpha\":{\"value\":0.5},\"fill_color\":{\"value\":\"lightgrey\"},\"left_units\":\"screen\",\"level\":\"overlay\",\"line_alpha\":{\"value\":1.0},\"line_color\":{\"value\":\"black\"},\"line_dash\":[4,4],\"line_width\":{\"value\":2},\"plot\":null,\"render_mode\":\"css\",\"right_units\":\"screen\",\"top_units\":\"screen\"},\"id\":\"1687\",\"type\":\"BoxAnnotation\"},{\"attributes\":{\"line_color\":\"#2222aa\",\"line_width\":3,\"x\":{\"field\":\"timestamps\"},\"y\":{\"field\":\"datapoints\"}},\"id\":\"1696\",\"type\":\"Line\"},{\"attributes\":{},\"id\":\"1679\",\"type\":\"PanTool\"},{\"attributes\":{},\"id\":\"1684\",\"type\":\"HelpTool\"},{\"attributes\":{\"callback\":null,\"data\":{\"datapoints\":[22.796841470698357,24.999801832647968,24.76052714227031,21.911501161359183,16.55884021514407,9.088783369934523,0.14333827770385538,-9.433847647463237,-18.676943625598533,-26.595247091457672,-32.278554396627605,-34.999456229475676,-34.30125502496781,-30.061265656619145,-22.521486460808667,-12.281815231943222,-0.2548228507060854,12.41480679520692,24.45914144213138,34.61382435921795,41.7501784123203,44.998844291423055,43.85156518391133],\"timestamps\":[0.022170066833496094,0.22255611419677734,0.42302489280700684,0.6235220432281494,0.8239130973815918,1.0243630409240723,1.224844217300415,1.4269490242004395,1.6274151802062988,1.8278448581695557,2.028228998184204,2.22867488861084,2.429133176803589,2.6315999031066895,2.832124948501587,3.0327749252319336,3.2332820892333984,3.4357662200927734,3.636486053466797,3.8370580673217773,4.046020030975342,4.246678113937378,4.448998928070068]},\"selected\":{\"id\":\"1746\",\"type\":\"Selection\"},\"selection_policy\":{\"id\":\"1747\",\"type\":\"UnionRenderers\"}},\"id\":\"1694\",\"type\":\"ColumnDataSource\"},{\"attributes\":{},\"id\":\"1683\",\"type\":\"ResetTool\"},{\"attributes\":{},\"id\":\"1680\",\"type\":\"WheelZoomTool\"},{\"attributes\":{\"line_alpha\":0.1,\"line_color\":\"#1f77b4\",\"line_width\":3,\"x\":{\"field\":\"timestamps\"},\"y\":{\"field\":\"datapoints\"}},\"id\":\"1697\",\"type\":\"Line\"},{\"attributes\":{\"plot\":null,\"text\":\"test4 data\"},\"id\":\"1658\",\"type\":\"Title\"},{\"attributes\":{},\"id\":\"1682\",\"type\":\"SaveTool\"},{\"attributes\":{\"overlay\":{\"id\":\"1687\",\"type\":\"BoxAnnotation\"}},\"id\":\"1681\",\"type\":\"BoxZoomTool\"},{\"attributes\":{\"callback\":null},\"id\":\"1661\",\"type\":\"DataRange1d\"}],\"root_ids\":[\"1659\"]},\"title\":\"Bokeh Application\",\"version\":\"1.0.2\"}};\n",
       "  var render_items = [{\"docid\":\"7758b4a8-0d16-43fa-8677-86159e7c63e3\",\"notebook_comms_target\":\"1748\",\"roots\":{\"1659\":\"8e9907ab-8092-4d05-8239-5676a3926ff0\"}}];\n",
       "  root.Bokeh.embed.embed_items_notebook(docs_json, render_items);\n",
       "\n",
       "  }\n",
       "  if (root.Bokeh !== undefined) {\n",
       "    embed_document(root);\n",
       "  } else {\n",
       "    var attempts = 0;\n",
       "    var timer = setInterval(function(root) {\n",
       "      if (root.Bokeh !== undefined) {\n",
       "        embed_document(root);\n",
       "        clearInterval(timer);\n",
       "      }\n",
       "      attempts++;\n",
       "      if (attempts > 100) {\n",
       "        console.log(\"Bokeh: ERROR: Unable to run BokehJS code because BokehJS library is missing\");\n",
       "        clearInterval(timer);\n",
       "      }\n",
       "    }, 10, root)\n",
       "  }\n",
       "})(window);"
      ],
      "application/vnd.bokehjs_exec.v0+json": ""
     },
     "metadata": {
      "application/vnd.bokehjs_exec.v0+json": {
       "id": "1659"
      }
     },
     "output_type": "display_data"
    },
    {
     "data": {
      "text/html": [
       "\n",
       "\n",
       "\n",
       "\n",
       "\n",
       "\n",
       "  <div class=\"bk-root\" id=\"006d65c5-2ba7-44e1-be2a-a0b37c210623\"></div>\n"
      ]
     },
     "metadata": {},
     "output_type": "display_data"
    },
    {
     "data": {
      "application/javascript": [
       "(function(root) {\n",
       "  function embed_document(root) {\n",
       "    \n",
       "  var docs_json = {\"2b00646c-761e-48f9-b8e1-015e769149b7\":{\"roots\":{\"references\":[{\"attributes\":{\"below\":[{\"id\":\"1808\",\"type\":\"LinearAxis\"}],\"left\":[{\"id\":\"1813\",\"type\":\"LinearAxis\"}],\"plot_height\":300,\"renderers\":[{\"id\":\"1808\",\"type\":\"LinearAxis\"},{\"id\":\"1812\",\"type\":\"Grid\"},{\"id\":\"1813\",\"type\":\"LinearAxis\"},{\"id\":\"1817\",\"type\":\"Grid\"},{\"id\":\"1826\",\"type\":\"BoxAnnotation\"},{\"id\":\"1837\",\"type\":\"GlyphRenderer\"}],\"title\":{\"id\":\"1797\",\"type\":\"Title\"},\"toolbar\":{\"id\":\"1824\",\"type\":\"Toolbar\"},\"x_range\":{\"id\":\"1800\",\"type\":\"DataRange1d\"},\"x_scale\":{\"id\":\"1804\",\"type\":\"LinearScale\"},\"y_range\":{\"id\":\"1802\",\"type\":\"DataRange1d\"},\"y_scale\":{\"id\":\"1806\",\"type\":\"LinearScale\"}},\"id\":\"1798\",\"subtype\":\"Figure\",\"type\":\"Plot\"},{\"attributes\":{},\"id\":\"1891\",\"type\":\"BasicTickFormatter\"},{\"attributes\":{},\"id\":\"1809\",\"type\":\"BasicTicker\"},{\"attributes\":{\"formatter\":{\"id\":\"1891\",\"type\":\"BasicTickFormatter\"},\"plot\":{\"id\":\"1798\",\"subtype\":\"Figure\",\"type\":\"Plot\"},\"ticker\":{\"id\":\"1814\",\"type\":\"BasicTicker\"}},\"id\":\"1813\",\"type\":\"LinearAxis\"},{\"attributes\":{},\"id\":\"1893\",\"type\":\"Selection\"},{\"attributes\":{\"formatter\":{\"id\":\"1889\",\"type\":\"BasicTickFormatter\"},\"plot\":{\"id\":\"1798\",\"subtype\":\"Figure\",\"type\":\"Plot\"},\"ticker\":{\"id\":\"1809\",\"type\":\"BasicTicker\"}},\"id\":\"1808\",\"type\":\"LinearAxis\"},{\"attributes\":{},\"id\":\"1894\",\"type\":\"UnionRenderers\"},{\"attributes\":{},\"id\":\"1889\",\"type\":\"BasicTickFormatter\"},{\"attributes\":{},\"id\":\"1806\",\"type\":\"LinearScale\"},{\"attributes\":{},\"id\":\"1804\",\"type\":\"LinearScale\"},{\"attributes\":{\"callback\":null},\"id\":\"1802\",\"type\":\"DataRange1d\"},{\"attributes\":{\"line_color\":\"#2222aa\",\"line_width\":3,\"x\":{\"field\":\"timestamps\"},\"y\":{\"field\":\"datapoints\"}},\"id\":\"1835\",\"type\":\"Line\"},{\"attributes\":{\"source\":{\"id\":\"1833\",\"type\":\"ColumnDataSource\"}},\"id\":\"1838\",\"type\":\"CDSView\"},{\"attributes\":{},\"id\":\"1821\",\"type\":\"SaveTool\"},{\"attributes\":{\"plot\":null,\"text\":\"test data\"},\"id\":\"1797\",\"type\":\"Title\"},{\"attributes\":{\"active_drag\":\"auto\",\"active_inspect\":\"auto\",\"active_multi\":null,\"active_scroll\":\"auto\",\"active_tap\":\"auto\",\"tools\":[{\"id\":\"1818\",\"type\":\"PanTool\"},{\"id\":\"1819\",\"type\":\"WheelZoomTool\"},{\"id\":\"1820\",\"type\":\"BoxZoomTool\"},{\"id\":\"1821\",\"type\":\"SaveTool\"},{\"id\":\"1822\",\"type\":\"ResetTool\"},{\"id\":\"1823\",\"type\":\"HelpTool\"}]},\"id\":\"1824\",\"type\":\"Toolbar\"},{\"attributes\":{},\"id\":\"1814\",\"type\":\"BasicTicker\"},{\"attributes\":{},\"id\":\"1822\",\"type\":\"ResetTool\"},{\"attributes\":{\"callback\":null,\"data\":{\"datapoints\":[24.999801832647968,24.76052714227031,21.911501161359183,16.55884021514407,9.088783369934523,0.14333827770385538,-9.433847647463237,-18.676943625598533,-26.595247091457672,-32.278554396627605,-34.999456229475676,-34.30125502496781,-30.061265656619145,-22.521486460808667,-12.281815231943222,-0.2548228507060854,12.41480679520692,24.45914144213138,34.61382435921795,41.7501784123203,44.998844291423055,43.85156518391133,38.22952447790202],\"timestamps\":[0.022552967071533203,0.22274994850158691,0.4232149124145508,0.6236839294433594,0.8240690231323242,1.0245211124420166,1.2250380516052246,1.4271650314331055,1.6275711059570312,1.8280138969421387,2.0283448696136475,2.2288432121276855,2.4293038845062256,2.6317620277404785,2.832324981689453,3.032930850982666,3.2334539890289307,3.4358842372894287,3.6367719173431396,3.8372881412506104,4.046197175979614,4.246862888336182,4.449246168136597]},\"selected\":{\"id\":\"1893\",\"type\":\"Selection\"},\"selection_policy\":{\"id\":\"1894\",\"type\":\"UnionRenderers\"}},\"id\":\"1833\",\"type\":\"ColumnDataSource\"},{\"attributes\":{\"callback\":null},\"id\":\"1800\",\"type\":\"DataRange1d\"},{\"attributes\":{},\"id\":\"1818\",\"type\":\"PanTool\"},{\"attributes\":{},\"id\":\"1819\",\"type\":\"WheelZoomTool\"},{\"attributes\":{\"line_alpha\":0.1,\"line_color\":\"#1f77b4\",\"line_width\":3,\"x\":{\"field\":\"timestamps\"},\"y\":{\"field\":\"datapoints\"}},\"id\":\"1836\",\"type\":\"Line\"},{\"attributes\":{\"overlay\":{\"id\":\"1826\",\"type\":\"BoxAnnotation\"}},\"id\":\"1820\",\"type\":\"BoxZoomTool\"},{\"attributes\":{\"plot\":{\"id\":\"1798\",\"subtype\":\"Figure\",\"type\":\"Plot\"},\"ticker\":{\"id\":\"1809\",\"type\":\"BasicTicker\"}},\"id\":\"1812\",\"type\":\"Grid\"},{\"attributes\":{\"dimension\":1,\"plot\":{\"id\":\"1798\",\"subtype\":\"Figure\",\"type\":\"Plot\"},\"ticker\":{\"id\":\"1814\",\"type\":\"BasicTicker\"}},\"id\":\"1817\",\"type\":\"Grid\"},{\"attributes\":{\"data_source\":{\"id\":\"1833\",\"type\":\"ColumnDataSource\"},\"glyph\":{\"id\":\"1835\",\"type\":\"Line\"},\"hover_glyph\":null,\"muted_glyph\":null,\"nonselection_glyph\":{\"id\":\"1836\",\"type\":\"Line\"},\"selection_glyph\":null,\"view\":{\"id\":\"1838\",\"type\":\"CDSView\"}},\"id\":\"1837\",\"type\":\"GlyphRenderer\"},{\"attributes\":{\"bottom_units\":\"screen\",\"fill_alpha\":{\"value\":0.5},\"fill_color\":{\"value\":\"lightgrey\"},\"left_units\":\"screen\",\"level\":\"overlay\",\"line_alpha\":{\"value\":1.0},\"line_color\":{\"value\":\"black\"},\"line_dash\":[4,4],\"line_width\":{\"value\":2},\"plot\":null,\"render_mode\":\"css\",\"right_units\":\"screen\",\"top_units\":\"screen\"},\"id\":\"1826\",\"type\":\"BoxAnnotation\"},{\"attributes\":{},\"id\":\"1823\",\"type\":\"HelpTool\"}],\"root_ids\":[\"1798\"]},\"title\":\"Bokeh Application\",\"version\":\"1.0.2\"}};\n",
       "  var render_items = [{\"docid\":\"2b00646c-761e-48f9-b8e1-015e769149b7\",\"notebook_comms_target\":\"1895\",\"roots\":{\"1798\":\"006d65c5-2ba7-44e1-be2a-a0b37c210623\"}}];\n",
       "  root.Bokeh.embed.embed_items_notebook(docs_json, render_items);\n",
       "\n",
       "  }\n",
       "  if (root.Bokeh !== undefined) {\n",
       "    embed_document(root);\n",
       "  } else {\n",
       "    var attempts = 0;\n",
       "    var timer = setInterval(function(root) {\n",
       "      if (root.Bokeh !== undefined) {\n",
       "        embed_document(root);\n",
       "        clearInterval(timer);\n",
       "      }\n",
       "      attempts++;\n",
       "      if (attempts > 100) {\n",
       "        console.log(\"Bokeh: ERROR: Unable to run BokehJS code because BokehJS library is missing\");\n",
       "        clearInterval(timer);\n",
       "      }\n",
       "    }, 10, root)\n",
       "  }\n",
       "})(window);"
      ],
      "application/vnd.bokehjs_exec.v0+json": ""
     },
     "metadata": {
      "application/vnd.bokehjs_exec.v0+json": {
       "id": "1798"
      }
     },
     "output_type": "display_data"
    },
    {
     "data": {
      "text/html": [
       "\n",
       "\n",
       "\n",
       "\n",
       "\n",
       "\n",
       "  <div class=\"bk-root\" id=\"64851ed2-c13f-4f65-b81f-d7c4696b69bf\"></div>\n"
      ]
     },
     "metadata": {},
     "output_type": "display_data"
    },
    {
     "data": {
      "application/javascript": [
       "(function(root) {\n",
       "  function embed_document(root) {\n",
       "    \n",
       "  var docs_json = {\"17839297-e1f0-4cc8-bdb2-118af9d05dfe\":{\"roots\":{\"references\":[{\"attributes\":{\"below\":[{\"id\":\"1955\",\"type\":\"LinearAxis\"}],\"left\":[{\"id\":\"1960\",\"type\":\"LinearAxis\"}],\"plot_height\":300,\"renderers\":[{\"id\":\"1955\",\"type\":\"LinearAxis\"},{\"id\":\"1959\",\"type\":\"Grid\"},{\"id\":\"1960\",\"type\":\"LinearAxis\"},{\"id\":\"1964\",\"type\":\"Grid\"},{\"id\":\"1973\",\"type\":\"BoxAnnotation\"},{\"id\":\"1984\",\"type\":\"GlyphRenderer\"}],\"title\":{\"id\":\"1944\",\"type\":\"Title\"},\"toolbar\":{\"id\":\"1971\",\"type\":\"Toolbar\"},\"x_range\":{\"id\":\"1947\",\"type\":\"DataRange1d\"},\"x_scale\":{\"id\":\"1951\",\"type\":\"LinearScale\"},\"y_range\":{\"id\":\"1949\",\"type\":\"DataRange1d\"},\"y_scale\":{\"id\":\"1953\",\"type\":\"LinearScale\"}},\"id\":\"1945\",\"subtype\":\"Figure\",\"type\":\"Plot\"},{\"attributes\":{},\"id\":\"1953\",\"type\":\"LinearScale\"},{\"attributes\":{},\"id\":\"1951\",\"type\":\"LinearScale\"},{\"attributes\":{\"callback\":null},\"id\":\"1949\",\"type\":\"DataRange1d\"},{\"attributes\":{\"line_color\":\"#2222aa\",\"line_width\":3,\"x\":{\"field\":\"timestamps\"},\"y\":{\"field\":\"datapoints\"}},\"id\":\"1982\",\"type\":\"Line\"},{\"attributes\":{\"plot\":null,\"text\":\"test2 data\"},\"id\":\"1944\",\"type\":\"Title\"},{\"attributes\":{},\"id\":\"1965\",\"type\":\"PanTool\"},{\"attributes\":{\"line_alpha\":0.1,\"line_color\":\"#1f77b4\",\"line_width\":3,\"x\":{\"field\":\"timestamps\"},\"y\":{\"field\":\"datapoints\"}},\"id\":\"1983\",\"type\":\"Line\"},{\"attributes\":{},\"id\":\"2048\",\"type\":\"Selection\"},{\"attributes\":{},\"id\":\"1969\",\"type\":\"ResetTool\"},{\"attributes\":{\"data_source\":{\"id\":\"1980\",\"type\":\"ColumnDataSource\"},\"glyph\":{\"id\":\"1982\",\"type\":\"Line\"},\"hover_glyph\":null,\"muted_glyph\":null,\"nonselection_glyph\":{\"id\":\"1983\",\"type\":\"Line\"},\"selection_glyph\":null,\"view\":{\"id\":\"1985\",\"type\":\"CDSView\"}},\"id\":\"1984\",\"type\":\"GlyphRenderer\"},{\"attributes\":{\"callback\":null},\"id\":\"1947\",\"type\":\"DataRange1d\"},{\"attributes\":{},\"id\":\"1968\",\"type\":\"SaveTool\"},{\"attributes\":{\"callback\":null,\"data\":{\"datapoints\":[22.796841470698357,24.999801832647968,24.76052714227031,21.911501161359183,16.55884021514407,9.088783369934523,0.14333827770385538,-9.433847647463237,-18.676943625598533,-26.595247091457672,-32.278554396627605,-34.999456229475676,-34.30125502496781,-30.061265656619145,-22.521486460808667,-12.281815231943222,-0.2548228507060854,12.41480679520692,24.45914144213138,34.61382435921795,41.7501784123203,44.998844291423055,43.85156518391133],\"timestamps\":[0.023423194885253906,0.2238750457763672,0.4241199493408203,0.6244471073150635,0.8248040676116943,1.0251359939575195,1.225358009338379,1.4273359775543213,1.6277568340301514,1.8282341957092285,2.028524160385132,2.229038953781128,2.4294941425323486,2.631904125213623,2.832443952560425,3.033082962036133,3.2335970401763916,3.436068058013916,3.637850046157837,3.8387348651885986,4.046378135681152,4.246990919113159,4.449388027191162]},\"selected\":{\"id\":\"2048\",\"type\":\"Selection\"},\"selection_policy\":{\"id\":\"2049\",\"type\":\"UnionRenderers\"}},\"id\":\"1980\",\"type\":\"ColumnDataSource\"},{\"attributes\":{\"overlay\":{\"id\":\"1973\",\"type\":\"BoxAnnotation\"}},\"id\":\"1967\",\"type\":\"BoxZoomTool\"},{\"attributes\":{},\"id\":\"1966\",\"type\":\"WheelZoomTool\"},{\"attributes\":{},\"id\":\"1961\",\"type\":\"BasicTicker\"},{\"attributes\":{},\"id\":\"1970\",\"type\":\"HelpTool\"},{\"attributes\":{\"bottom_units\":\"screen\",\"fill_alpha\":{\"value\":0.5},\"fill_color\":{\"value\":\"lightgrey\"},\"left_units\":\"screen\",\"level\":\"overlay\",\"line_alpha\":{\"value\":1.0},\"line_color\":{\"value\":\"black\"},\"line_dash\":[4,4],\"line_width\":{\"value\":2},\"plot\":null,\"render_mode\":\"css\",\"right_units\":\"screen\",\"top_units\":\"screen\"},\"id\":\"1973\",\"type\":\"BoxAnnotation\"},{\"attributes\":{\"formatter\":{\"id\":\"2046\",\"type\":\"BasicTickFormatter\"},\"plot\":{\"id\":\"1945\",\"subtype\":\"Figure\",\"type\":\"Plot\"},\"ticker\":{\"id\":\"1961\",\"type\":\"BasicTicker\"}},\"id\":\"1960\",\"type\":\"LinearAxis\"},{\"attributes\":{},\"id\":\"2049\",\"type\":\"UnionRenderers\"},{\"attributes\":{\"dimension\":1,\"plot\":{\"id\":\"1945\",\"subtype\":\"Figure\",\"type\":\"Plot\"},\"ticker\":{\"id\":\"1961\",\"type\":\"BasicTicker\"}},\"id\":\"1964\",\"type\":\"Grid\"},{\"attributes\":{\"active_drag\":\"auto\",\"active_inspect\":\"auto\",\"active_multi\":null,\"active_scroll\":\"auto\",\"active_tap\":\"auto\",\"tools\":[{\"id\":\"1965\",\"type\":\"PanTool\"},{\"id\":\"1966\",\"type\":\"WheelZoomTool\"},{\"id\":\"1967\",\"type\":\"BoxZoomTool\"},{\"id\":\"1968\",\"type\":\"SaveTool\"},{\"id\":\"1969\",\"type\":\"ResetTool\"},{\"id\":\"1970\",\"type\":\"HelpTool\"}]},\"id\":\"1971\",\"type\":\"Toolbar\"},{\"attributes\":{\"source\":{\"id\":\"1980\",\"type\":\"ColumnDataSource\"}},\"id\":\"1985\",\"type\":\"CDSView\"},{\"attributes\":{\"plot\":{\"id\":\"1945\",\"subtype\":\"Figure\",\"type\":\"Plot\"},\"ticker\":{\"id\":\"1956\",\"type\":\"BasicTicker\"}},\"id\":\"1959\",\"type\":\"Grid\"},{\"attributes\":{},\"id\":\"2046\",\"type\":\"BasicTickFormatter\"},{\"attributes\":{},\"id\":\"1956\",\"type\":\"BasicTicker\"},{\"attributes\":{},\"id\":\"2044\",\"type\":\"BasicTickFormatter\"},{\"attributes\":{\"formatter\":{\"id\":\"2044\",\"type\":\"BasicTickFormatter\"},\"plot\":{\"id\":\"1945\",\"subtype\":\"Figure\",\"type\":\"Plot\"},\"ticker\":{\"id\":\"1956\",\"type\":\"BasicTicker\"}},\"id\":\"1955\",\"type\":\"LinearAxis\"}],\"root_ids\":[\"1945\"]},\"title\":\"Bokeh Application\",\"version\":\"1.0.2\"}};\n",
       "  var render_items = [{\"docid\":\"17839297-e1f0-4cc8-bdb2-118af9d05dfe\",\"notebook_comms_target\":\"2050\",\"roots\":{\"1945\":\"64851ed2-c13f-4f65-b81f-d7c4696b69bf\"}}];\n",
       "  root.Bokeh.embed.embed_items_notebook(docs_json, render_items);\n",
       "\n",
       "  }\n",
       "  if (root.Bokeh !== undefined) {\n",
       "    embed_document(root);\n",
       "  } else {\n",
       "    var attempts = 0;\n",
       "    var timer = setInterval(function(root) {\n",
       "      if (root.Bokeh !== undefined) {\n",
       "        embed_document(root);\n",
       "        clearInterval(timer);\n",
       "      }\n",
       "      attempts++;\n",
       "      if (attempts > 100) {\n",
       "        console.log(\"Bokeh: ERROR: Unable to run BokehJS code because BokehJS library is missing\");\n",
       "        clearInterval(timer);\n",
       "      }\n",
       "    }, 10, root)\n",
       "  }\n",
       "})(window);"
      ],
      "application/vnd.bokehjs_exec.v0+json": ""
     },
     "metadata": {
      "application/vnd.bokehjs_exec.v0+json": {
       "id": "1945"
      }
     },
     "output_type": "display_data"
    }
   ],
   "source": [
    "#Visualize the experiment with live updating\n",
    "E.visualize()"
   ]
  },
  {
   "cell_type": "code",
   "execution_count": 4,
   "metadata": {
    "scrolled": true
   },
   "outputs": [
    {
     "data": {
      "text/plain": [
       "[{'timestamp': 1548344662.148952,\n",
       "  'params': {'rate': '5.0 / second'},\n",
       "  'device': 'test',\n",
       "  'type': 'executed_procedure',\n",
       "  'executed_time': 4.188072919845581},\n",
       " {'timestamp': 1548344662.3121731,\n",
       "  'params': {'rate': '5.0 / second'},\n",
       "  'device': 'test4',\n",
       "  'type': 'executed_procedure',\n",
       "  'executed_time': 4.351294040679932},\n",
       " {'timestamp': 1548344662.369458,\n",
       "  'params': {'rate': '5.0 / second'},\n",
       "  'device': 'test2',\n",
       "  'type': 'executed_procedure',\n",
       "  'executed_time': 4.408578872680664},\n",
       " {'timestamp': 1548344662.446822,\n",
       "  'params': {'rate': '5.0 / second'},\n",
       "  'device': 'test3',\n",
       "  'type': 'executed_procedure',\n",
       "  'executed_time': 4.485942840576172},\n",
       " {'timestamp': 1548344688.000214,\n",
       "  'params': {'rate': '0.0 / second'},\n",
       "  'device': 'test4',\n",
       "  'type': 'executed_procedure',\n",
       "  'executed_time': 30.039335012435913},\n",
       " {'timestamp': 1548344688.013749,\n",
       "  'params': {'rate': '0.0 / second'},\n",
       "  'device': 'test',\n",
       "  'type': 'executed_procedure',\n",
       "  'executed_time': 30.05286979675293},\n",
       " {'timestamp': 1548344688.048186,\n",
       "  'params': {'rate': '0.0 / second'},\n",
       "  'device': 'test2',\n",
       "  'type': 'executed_procedure',\n",
       "  'executed_time': 30.08730697631836},\n",
       " {'timestamp': 1548344688.063406,\n",
       "  'params': {'rate': '0.0 / second'},\n",
       "  'device': 'test3',\n",
       "  'type': 'executed_procedure',\n",
       "  'executed_time': 30.102526903152466}]"
      ]
     },
     "execution_count": 4,
     "metadata": {},
     "output_type": "execute_result"
    }
   ],
   "source": [
    "#Inspect the protocol steps that ran successfully.\n",
    "E.executed_procedures"
   ]
  },
  {
   "cell_type": "code",
   "execution_count": null,
   "metadata": {},
   "outputs": [],
   "source": []
  },
  {
   "cell_type": "code",
   "execution_count": null,
   "metadata": {},
   "outputs": [],
   "source": []
  },
  {
   "cell_type": "code",
   "execution_count": null,
   "metadata": {},
   "outputs": [],
   "source": []
  }
 ],
 "metadata": {
  "kernelspec": {
   "display_name": "Python 3",
   "language": "python",
   "name": "python3"
  },
  "language_info": {
   "codemirror_mode": {
    "name": "ipython",
    "version": 3
   },
   "file_extension": ".py",
   "mimetype": "text/x-python",
   "name": "python",
   "nbconvert_exporter": "python",
   "pygments_lexer": "ipython3",
   "version": "3.7.1"
  },
  "widgets": {
   "application/vnd.jupyter.widget-state+json": {
    "state": {},
    "version_major": 2,
    "version_minor": 0
   }
  }
 },
 "nbformat": 4,
 "nbformat_minor": 2
}
